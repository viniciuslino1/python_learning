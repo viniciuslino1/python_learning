{
  "nbformat": 4,
  "nbformat_minor": 0,
  "metadata": {
    "colab": {
      "provenance": [],
      "authorship_tag": "ABX9TyOcP5R6nJvyLGQl9R9gQD6F",
      "include_colab_link": true
    },
    "kernelspec": {
      "name": "python3",
      "display_name": "Python 3"
    },
    "language_info": {
      "name": "python"
    }
  },
  "cells": [
    {
      "cell_type": "markdown",
      "metadata": {
        "id": "view-in-github",
        "colab_type": "text"
      },
      "source": [
        "<a href=\"https://colab.research.google.com/github/viniciuslino1/python_learning/blob/main/estruturas_de_repeti%C3%A7%C3%A3o_condicionais.ipynb\" target=\"_parent\"><img src=\"https://colab.research.google.com/assets/colab-badge.svg\" alt=\"Open In Colab\"/></a>"
      ]
    },
    {
      "cell_type": "markdown",
      "source": [
        "#Estruturas de Repetição"
      ],
      "metadata": {
        "id": "xFBPUACtcDZM"
      }
    },
    {
      "cell_type": "markdown",
      "source": [
        "Tenho uma lista longa de nomes e gostaria de printar eles sem precisar icar repetindo o comando `print()` constantemente. O camando deseja é para cada nome dentro de `lista_nomes`, imprima o nome"
      ],
      "metadata": {
        "id": "PpwgEAzGcv-2"
      }
    },
    {
      "cell_type": "code",
      "source": [
        "lista_nomes = ['João', 'Marcela', 'Felipe', 'Ana', 'Augusto', 'Flávio', 'Henrique', 'Juliana', 'Andrei', 'Bruno', 'Marina']"
      ],
      "metadata": {
        "id": "7_D4pi5rcI6d"
      },
      "execution_count": null,
      "outputs": []
    },
    {
      "cell_type": "code",
      "source": [
        "nome = 'Marcela'\n",
        "print(nome)"
      ],
      "metadata": {
        "colab": {
          "base_uri": "https://localhost:8080/"
        },
        "id": "luVJO6xqeNrM",
        "outputId": "5649747f-6caa-42c0-fa2b-bfcf7410e36b"
      },
      "execution_count": null,
      "outputs": [
        {
          "output_type": "stream",
          "name": "stdout",
          "text": [
            "Marcela\n"
          ]
        }
      ]
    },
    {
      "cell_type": "markdown",
      "source": [
        "##**A estrutura de repetição `for` em Python**"
      ],
      "metadata": {
        "id": "tl3SukGAdEfE"
      }
    },
    {
      "cell_type": "code",
      "source": [
        "for nome in lista_nomes:\n",
        "  print(nome)"
      ],
      "metadata": {
        "colab": {
          "base_uri": "https://localhost:8080/"
        },
        "id": "KYmqDieIdJkf",
        "outputId": "5f8ac5ba-ce5e-4ece-d0ee-d8e5ae62176b"
      },
      "execution_count": null,
      "outputs": [
        {
          "output_type": "stream",
          "name": "stdout",
          "text": [
            "João\n",
            "Marcela\n",
            "Felipe\n",
            "Ana\n",
            "Augusto\n",
            "Flávio\n",
            "Henrique\n",
            "Juliana\n",
            "Andrei\n",
            "Bruno\n",
            "Marina\n"
          ]
        }
      ]
    },
    {
      "cell_type": "markdown",
      "source": [
        "Na estrutura acima, temos alguns elementos importantes:\n",
        "\n",
        "*   `for`: indicativo de uma estrutura de repetição\n",
        "*   `lista_nomes`: Lista de elementos em que faremos a operação a ser repetida\n",
        "*   `nome`: Variável **interna** da estrutura de repetição, atualizada a cada leitura na lista `lista_nomes`\n",
        "\n",
        "\n",
        "\n"
      ],
      "metadata": {
        "id": "po3FnQOMez_W"
      }
    },
    {
      "cell_type": "code",
      "source": [
        "#escrevendo a mesma estrutura, mas agora trocando o nome da variável interna\n",
        "for qualquer in lista_nomes:\n",
        "  print(qualquer)"
      ],
      "metadata": {
        "colab": {
          "base_uri": "https://localhost:8080/"
        },
        "id": "-3nRVo7vezXh",
        "outputId": "7ed7e208-27e0-4627-e8bc-2796d173ea86"
      },
      "execution_count": null,
      "outputs": [
        {
          "output_type": "stream",
          "name": "stdout",
          "text": [
            "João\n",
            "Marcela\n",
            "Felipe\n",
            "Ana\n",
            "Augusto\n",
            "Flávio\n",
            "Henrique\n",
            "Juliana\n",
            "Andrei\n",
            "Bruno\n",
            "Marina\n"
          ]
        }
      ]
    },
    {
      "cell_type": "markdown",
      "source": [
        "Assim como na estrutura condicional (`if`), a **identação/tabulação** faz parte do código, ou seja, os códigos que serão repetidos para cada elemento da lista serão apenas aqueles dentro da identação"
      ],
      "metadata": {
        "id": "DJEBDOIhfrCC"
      }
    },
    {
      "cell_type": "code",
      "source": [
        "#Estrutura de repetição\n",
        "\n",
        "for variavel_nome in lista_nomes:\n",
        "  print(variavel_nome) #Vai ser repetido para todos os elementos da lista\n",
        "print(\"Fim da lista\") #Será processado apenas uma vez"
      ],
      "metadata": {
        "colab": {
          "base_uri": "https://localhost:8080/"
        },
        "id": "h9pCRDosfqwl",
        "outputId": "641ce567-a560-48ac-9a2e-e4e1bf2c6269"
      },
      "execution_count": null,
      "outputs": [
        {
          "output_type": "stream",
          "name": "stdout",
          "text": [
            "João\n",
            "Marcela\n",
            "Felipe\n",
            "Ana\n",
            "Augusto\n",
            "Flávio\n",
            "Henrique\n",
            "Juliana\n",
            "Andrei\n",
            "Bruno\n",
            "Marina\n",
            "Fim da lista\n"
          ]
        }
      ]
    },
    {
      "cell_type": "markdown",
      "source": [
        "## **Combinação com condicionais**"
      ],
      "metadata": {
        "id": "sgYjniPngvXc"
      }
    },
    {
      "cell_type": "code",
      "source": [
        "numeros = [0,1,2,3,4,5,6]\n",
        "for numero in numeros:\n",
        "  if numero ==2:\n",
        "    print(\"É o número 2\")\n",
        "  else:\n",
        "    print(\"Não é o número 2\")"
      ],
      "metadata": {
        "colab": {
          "base_uri": "https://localhost:8080/"
        },
        "id": "Aj9Z9fYAhSRZ",
        "outputId": "b5d1c784-8acf-4daa-f59d-ff30e62f1027"
      },
      "execution_count": null,
      "outputs": [
        {
          "output_type": "stream",
          "name": "stdout",
          "text": [
            "Não é o número 2\n",
            "Não é o número 2\n",
            "É o número 2\n",
            "Não é o número 2\n",
            "Não é o número 2\n",
            "Não é o número 2\n",
            "Não é o número 2\n"
          ]
        }
      ]
    },
    {
      "cell_type": "code",
      "source": [
        "#com três possibilidades - nivel de recuo do elif e else interfere na condição\n",
        "for numero in numeros:\n",
        "  if numero <=2:\n",
        "    print(\"É menor ou igual a 2\")\n",
        "  elif numero <=4:\n",
        "    print(\"Está entre 2 e 4\")\n",
        "  else:\n",
        "    print (\"É maior que 4\")"
      ],
      "metadata": {
        "colab": {
          "base_uri": "https://localhost:8080/"
        },
        "id": "xKxpgduxhwwh",
        "outputId": "9121a027-3f42-44cc-a882-c823451fd9d4"
      },
      "execution_count": null,
      "outputs": [
        {
          "output_type": "stream",
          "name": "stdout",
          "text": [
            "É menor ou igual a 2\n",
            "É menor ou igual a 2\n",
            "É menor ou igual a 2\n",
            "Está entre 2 e 4\n",
            "Está entre 2 e 4\n",
            "É maior que 4\n",
            "É maior que 4\n"
          ]
        }
      ]
    },
    {
      "cell_type": "code",
      "source": [
        "# Condicional múltiplos de 3 e 5\n",
        "numeros_ex1 = [2,3,5,7,8,10,12,14,15,17]"
      ],
      "metadata": {
        "id": "oPT6yulvOaUB"
      },
      "execution_count": 1,
      "outputs": []
    },
    {
      "cell_type": "code",
      "source": [
        "for i in numeros_ex1:\n",
        "  if i %3 == 0:\n",
        "    print(f\"{i} é múltiplo de 3\")\n",
        "  elif i %5 == 0:\n",
        "    print(f\"{i} é múltiplo de 5\")\n",
        "  else:\n",
        "    print(\"Outro caso\")"
      ],
      "metadata": {
        "colab": {
          "base_uri": "https://localhost:8080/"
        },
        "id": "zEmxZY5lOgrf",
        "outputId": "317bd986-7c18-4594-f19f-22e1a1cafcdf"
      },
      "execution_count": 3,
      "outputs": [
        {
          "output_type": "stream",
          "name": "stdout",
          "text": [
            "Outro caso\n",
            "3 é múltiplo de 3\n",
            "5 é múltiplo de 5\n",
            "Outro caso\n",
            "Outro caso\n",
            "10 é múltiplo de 5\n",
            "12 é múltiplo de 3\n",
            "Outro caso\n",
            "15 é múltiplo de 3\n",
            "Outro caso\n"
          ]
        }
      ]
    },
    {
      "cell_type": "code",
      "source": [
        "#Criando nova lista que contenha apenas múltiplos de 7\n",
        "numeros_ex2 = [4,5,7,8,10,14,17,21,31,45,49,70]"
      ],
      "metadata": {
        "id": "4XWFepzTPVjo"
      },
      "execution_count": 4,
      "outputs": []
    },
    {
      "cell_type": "code",
      "source": [
        "lista_multiplos_7 = []\n",
        "for i in numeros_ex2:\n",
        "  if i %7 ==0:\n",
        "    lista_multiplos_7.append(i)"
      ],
      "metadata": {
        "id": "Dnr-uwQZPaTa"
      },
      "execution_count": 9,
      "outputs": []
    },
    {
      "cell_type": "code",
      "source": [
        "print(lista_multiplos_7)"
      ],
      "metadata": {
        "colab": {
          "base_uri": "https://localhost:8080/"
        },
        "id": "AfBceEacPrfy",
        "outputId": "594a3bb3-9e3a-4dd2-f5a0-0c3e423c83a2"
      },
      "execution_count": 10,
      "outputs": [
        {
          "output_type": "stream",
          "name": "stdout",
          "text": [
            "[7, 14, 21, 49, 70]\n"
          ]
        }
      ]
    },
    {
      "cell_type": "code",
      "source": [
        "#Contagem de números pares e impares com condicional\n",
        "numeros = [1, 2, 3, 4, 5, 6, 7, 8, 9]\n",
        "numeros_impares = 0\n",
        "numeros_pares = 0"
      ],
      "metadata": {
        "id": "DnxppS8EQeET"
      },
      "execution_count": 28,
      "outputs": []
    },
    {
      "cell_type": "code",
      "source": [
        "for i in numeros:\n",
        "  if i %2 ==0:\n",
        "    numeros_pares = numeros_pares+1 # ele está somando 1 ao valor anterior toda vez que a condição anterior se faz verdadeira\n",
        "  else:\n",
        "    numeros_impares = numeros_impares+1\n"
      ],
      "metadata": {
        "id": "QW8n8jruQjLy"
      },
      "execution_count": 26,
      "outputs": []
    },
    {
      "cell_type": "code",
      "source": [
        "print(f\"Quantidade de numeros pares: {numeros_pares}\")\n",
        "print(f\"Quantidade de numeros impares: {numeros_impares}\")"
      ],
      "metadata": {
        "colab": {
          "base_uri": "https://localhost:8080/"
        },
        "id": "Pzn6xvnkRnQL",
        "outputId": "c42d10a0-e0ff-4fa8-c51d-65099d7d9553"
      },
      "execution_count": 27,
      "outputs": [
        {
          "output_type": "stream",
          "name": "stdout",
          "text": [
            "Quantidade de numeros pares: 4\n",
            "Quantidade de numeros impares: 5\n"
          ]
        }
      ]
    },
    {
      "cell_type": "code",
      "source": [
        "#outra forma\n",
        "\n",
        "for i in numeros:\n",
        "  if i %2 ==0:\n",
        "    numeros_pares += 1\n",
        "  else:\n",
        "    numeros_impares += 1"
      ],
      "metadata": {
        "id": "nUkrSrtATJE0"
      },
      "execution_count": 29,
      "outputs": []
    },
    {
      "cell_type": "code",
      "source": [
        "print(f\"Quantidade de numeros pares: {numeros_pares}\")\n",
        "print(f\"Quantidade de numeros impares: {numeros_impares}\")"
      ],
      "metadata": {
        "colab": {
          "base_uri": "https://localhost:8080/"
        },
        "id": "IYUlgD7XTUtz",
        "outputId": "f30516f9-24af-49fc-f6c4-248770cdb4c0"
      },
      "execution_count": 30,
      "outputs": [
        {
          "output_type": "stream",
          "name": "stdout",
          "text": [
            "Quantidade de numeros pares: 4\n",
            "Quantidade de numeros impares: 5\n"
          ]
        }
      ]
    },
    {
      "cell_type": "markdown",
      "source": [
        "#**Estruturas Condicionais**\n",
        "\n",
        "Em programação, uma `estrutura condicional` significa um código cuja resposta **depende** de uma determinada condição (ou entrada)\n",
        "\n",
        "Em python, o **se** condicional é representado pela palavra em inglês `if`"
      ],
      "metadata": {
        "id": "I1KwDpIRWzgO"
      }
    },
    {
      "cell_type": "code",
      "source": [
        "#Fazendo condição\n",
        "tempo = \"Sol\" # atribuir variável =\n",
        "if tempo == \"Sol\": # compara variáveis ==\n",
        "  print (\"Fiz Churrasco\")\n",
        "  print (\"Ficou muito bom\")"
      ],
      "metadata": {
        "colab": {
          "base_uri": "https://localhost:8080/"
        },
        "id": "xM_kr0amXOwz",
        "outputId": "37009f1c-1cb3-4808-8c9f-0b5706b8c8e1"
      },
      "execution_count": 34,
      "outputs": [
        {
          "output_type": "stream",
          "name": "stdout",
          "text": [
            "Fiz Churrasco\n",
            "Ficou muito bom\n"
          ]
        }
      ]
    },
    {
      "cell_type": "markdown",
      "source": [
        "Se eu não quero que a expressão seguinte siga a condição do if basta escrever ela sem a tabulação do recuo"
      ],
      "metadata": {
        "id": "CA--BYSiX3Gv"
      }
    },
    {
      "cell_type": "code",
      "source": [
        "if tempo == \"Chuva\":\n",
        "  print (\"Fiz Churrasco\")\n",
        "  print (\"Ficou muito bom\")\n",
        "print (\"Independente do tempo, comi muito\")"
      ],
      "metadata": {
        "colab": {
          "base_uri": "https://localhost:8080/"
        },
        "id": "8Ft5t4MlX9TV",
        "outputId": "568475f7-968f-4f6a-b497-e4aa4ba12fbc"
      },
      "execution_count": 36,
      "outputs": [
        {
          "output_type": "stream",
          "name": "stdout",
          "text": [
            "Independente do tempo, comi muito\n"
          ]
        }
      ]
    },
    {
      "cell_type": "markdown",
      "source": [
        "A expressão \"caso contrário\" é representada pelo `else`. Que seria o segundo caminho, caso o `ìf` não seja verdadeiro."
      ],
      "metadata": {
        "id": "ocMSZM_-YQRO"
      }
    },
    {
      "cell_type": "code",
      "source": [
        "if tempo == \"Chuva\":\n",
        "  print (\"Fiz Churrasco\")\n",
        "else:\n",
        "  print(\"Tomei Sopa\")"
      ],
      "metadata": {
        "colab": {
          "base_uri": "https://localhost:8080/"
        },
        "id": "f2sjqirMYYm-",
        "outputId": "19f344b5-89ea-4691-8182-2ccfdb024c37"
      },
      "execution_count": 38,
      "outputs": [
        {
          "output_type": "stream",
          "name": "stdout",
          "text": [
            "Tomei Sopa\n"
          ]
        }
      ]
    },
    {
      "cell_type": "markdown",
      "source": [
        "**Encadeando múltiplas condições em Python**"
      ],
      "metadata": {
        "id": "HVoxqf2hYyT0"
      }
    },
    {
      "cell_type": "code",
      "source": [
        "tempo = \"Nublado\"\n",
        "\n",
        "if tempo == \"Sol\":\n",
        "  print (\"Fiz Churrasco\")\n",
        "else:\n",
        "  if tempo == \"Chuva\":\n",
        "    print(\"Não fiz churrasco\")\n",
        "  else:\n",
        "    print (\"Nem almocei, fiquei sem fome\")"
      ],
      "metadata": {
        "colab": {
          "base_uri": "https://localhost:8080/"
        },
        "id": "COZUfFr2Y4-s",
        "outputId": "1b380a50-dea4-4b3e-e97e-b310db029ef2"
      },
      "execution_count": 42,
      "outputs": [
        {
          "output_type": "stream",
          "name": "stdout",
          "text": [
            "Nem almocei, fiquei sem fome\n"
          ]
        }
      ]
    },
    {
      "cell_type": "code",
      "source": [
        "if tempo == \"Sol\":\n",
        "   print(\"Fiz churrasco\")\n",
        "else:\n",
        "  if tempo == \"Chuva\":\n",
        "    print(\"Não fiz churrasco\")\n",
        "  else:\n",
        "    if tempo == \"Nublado\":\n",
        "      print(\"Nem almocei, fiquei sem fome\")\n",
        "    else:\n",
        "      if tempo == \"Neve\":\n",
        "        print(\"Comi fondue\")\n",
        "      else:\n",
        "        print(\"Pedi um ifood\")"
      ],
      "metadata": {
        "colab": {
          "base_uri": "https://localhost:8080/"
        },
        "id": "7SHxPjf1ZUhR",
        "outputId": "a5434234-43bf-4161-a129-aa0048c48b29"
      },
      "execution_count": 43,
      "outputs": [
        {
          "output_type": "stream",
          "name": "stdout",
          "text": [
            "Nem almocei, fiquei sem fome\n"
          ]
        }
      ]
    },
    {
      "cell_type": "markdown",
      "source": [
        "`elif` é o comando feito para um `else` seguido de um `if`:"
      ],
      "metadata": {
        "id": "2MHMU2Z_Z3rr"
      }
    },
    {
      "cell_type": "code",
      "source": [
        "#O elif não precisa de : como o else ou if, fica ao final da expressão. E também não precisa se importar com a tabulação do else como antes\n",
        "if tempo == \"Sol\":\n",
        "   print(\"Fiz churrasco\")\n",
        "elif tempo == \"Chuva\":\n",
        "    print(\"Não fiz churrasco\")\n",
        "elif tempo == \"Nublado\":\n",
        "      print(\"Nem almocei, fiquei sem fome\")\n",
        "elif tempo == \"Neve\":\n",
        "      print(\"Comi fondue\")\n",
        "else:\n",
        "      print(\"Pedi um ifood\")"
      ],
      "metadata": {
        "colab": {
          "base_uri": "https://localhost:8080/"
        },
        "id": "6zps6PG_Z82i",
        "outputId": "a8c55821-c9d4-4409-c88f-da008b2b1ff1"
      },
      "execution_count": 44,
      "outputs": [
        {
          "output_type": "stream",
          "name": "stdout",
          "text": [
            "Nem almocei, fiquei sem fome\n"
          ]
        }
      ]
    },
    {
      "cell_type": "markdown",
      "source": [
        "### (Desafio). Crie uma estrutura condicional que receba como entrada um ano e que retorne se esse ano é bissexto ou não\n",
        "\n",
        "**Regras**\n",
        "1. Todo ano divisível por 4 é bissexto\n",
        "2. Todo ano divisível por 100 não é ano bissexto\n",
        "3. Mas se o ano for divisível por 400 é ano bissexto"
      ],
      "metadata": {
        "id": "RB6zBEFidnMg"
      }
    },
    {
      "cell_type": "code",
      "source": [
        "ano = 1600"
      ],
      "metadata": {
        "id": "cUywxD7Ydn2S"
      },
      "execution_count": 46,
      "outputs": []
    },
    {
      "cell_type": "code",
      "source": [
        "if ano%4 ==0 and ano%100 > 0:\n",
        "  print(f\"{ano} é bissexto\")\n",
        "elif ano%400 == 0: print (f\"{ano} é bissexto\")\n",
        "else:\n",
        "  print(f\"{ano} não é bissexto\")"
      ],
      "metadata": {
        "colab": {
          "base_uri": "https://localhost:8080/"
        },
        "id": "wamBD8WVdrWD",
        "outputId": "9da7bcd3-1af2-4ee5-d5f7-85d8935937e0"
      },
      "execution_count": 47,
      "outputs": [
        {
          "output_type": "stream",
          "name": "stdout",
          "text": [
            "1600 é bissexto\n"
          ]
        }
      ]
    }
  ]
}