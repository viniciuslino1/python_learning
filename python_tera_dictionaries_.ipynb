{
  "nbformat": 4,
  "nbformat_minor": 0,
  "metadata": {
    "colab": {
      "provenance": [],
      "authorship_tag": "ABX9TyOsVxIG180JwdzGOTw70Xbt",
      "include_colab_link": true
    },
    "kernelspec": {
      "name": "python3",
      "display_name": "Python 3"
    },
    "language_info": {
      "name": "python"
    }
  },
  "cells": [
    {
      "cell_type": "markdown",
      "metadata": {
        "id": "view-in-github",
        "colab_type": "text"
      },
      "source": [
        "<a href=\"https://colab.research.google.com/github/viniciuslino1/python_learning/blob/main/python_tera_dictionaries_.ipynb\" target=\"_parent\"><img src=\"https://colab.research.google.com/assets/colab-badge.svg\" alt=\"Open In Colab\"/></a>"
      ]
    },
    {
      "cell_type": "markdown",
      "source": [
        "# **Manipulação de dados com dicionários**"
      ],
      "metadata": {
        "id": "z2S40GDScJxO"
      }
    },
    {
      "cell_type": "markdown",
      "source": [
        "## Conceito\n",
        "\n",
        "O dicionário é uma estrutura para manipulação de dados. Eles são de estruturas de dados que mapeiam **chaves** em **valores**.\n",
        "\n",
        "No exemplo a seguir temos um dicionário 'entretenimento' uma **chave** ('séries') com seu respectivo **valor** `(['The Crown':)`\n",
        "\n",
        "`entretenimento = {'séries':'The Crown'}`"
      ],
      "metadata": {
        "id": "ecWubh9LcPrz"
      }
    },
    {
      "cell_type": "code",
      "source": [
        "#criando o dicionário entretenimento\n",
        "\n",
        "entretenimento = {'séries' : 'The Crown'}\n",
        "print(entretenimento)"
      ],
      "metadata": {
        "colab": {
          "base_uri": "https://localhost:8080/"
        },
        "id": "9qu-rZIEdD9E",
        "outputId": "ad0126b9-025f-4b98-e115-edd2fb1a27e3"
      },
      "execution_count": 1,
      "outputs": [
        {
          "output_type": "stream",
          "name": "stdout",
          "text": [
            "{'séries': 'The Crown'}\n"
          ]
        }
      ]
    },
    {
      "cell_type": "markdown",
      "source": [
        "## Criação e Inicialização"
      ],
      "metadata": {
        "id": "P3VqFypxdT2C"
      }
    },
    {
      "cell_type": "markdown",
      "source": [
        "Os dicionários podem ser inicializados de duas formas:\n",
        "\n",
        "**Criando um dicionário através das** `{}`:"
      ],
      "metadata": {
        "id": "et5YXdgBdbns"
      }
    },
    {
      "cell_type": "code",
      "source": [
        "#Inicializando o dicionário com {}\n",
        "entretenimento = {'filmes' : 'Soul', 'séries' : 'The Crown'}\n",
        "print(entretenimento)"
      ],
      "metadata": {
        "colab": {
          "base_uri": "https://localhost:8080/"
        },
        "id": "tmRKxubLdl5R",
        "outputId": "75a96912-63e9-4440-aa2e-2657b57d2d35"
      },
      "execution_count": 4,
      "outputs": [
        {
          "output_type": "stream",
          "name": "stdout",
          "text": [
            "{'filmes': 'Soul', 'séries': 'The Crown'}\n"
          ]
        }
      ]
    },
    {
      "cell_type": "code",
      "source": [
        "# criando dicionário com {} de dois níveis\n",
        "entretenimento = {\n",
        "                  'filmes': {\n",
        "                             'action': 'Fast and Furious',\n",
        "                             'romance': 'Love is blind'\n",
        "                             },\n",
        "                  'séries': 'The Crown',\n",
        "                  'livros': 'O Pequeno Príncipe'\n",
        "                  }"
      ],
      "metadata": {
        "id": "jifDEkIfY6-N"
      },
      "execution_count": 1,
      "outputs": []
    },
    {
      "cell_type": "code",
      "source": [
        "#imprimindo filmes de ação\n",
        "print(entretenimento['filmes']['action'])"
      ],
      "metadata": {
        "colab": {
          "base_uri": "https://localhost:8080/"
        },
        "id": "IefGb4RTZN5Z",
        "outputId": "307a6c0d-d350-42fa-87fe-4e2eed3bf212"
      },
      "execution_count": 2,
      "outputs": [
        {
          "output_type": "stream",
          "name": "stdout",
          "text": [
            "Fast and Furious\n"
          ]
        }
      ]
    },
    {
      "cell_type": "code",
      "source": [
        "#inserindo novo gênero de filme\n",
        "entretenimento['filmes']['pixar'] = 'Soul'\n",
        "print(entretenimento)"
      ],
      "metadata": {
        "colab": {
          "base_uri": "https://localhost:8080/"
        },
        "id": "nsNa-wZ4ZW-4",
        "outputId": "0567080c-be11-477f-92a3-cd228919744e"
      },
      "execution_count": 4,
      "outputs": [
        {
          "output_type": "stream",
          "name": "stdout",
          "text": [
            "{'filmes': {'action': 'Fast and Furious', 'romance': 'Love is blind', 'pixar': 'Soul'}, 'séries': 'The Crown', 'livros': 'O Pequeno Príncipe'}\n"
          ]
        }
      ]
    },
    {
      "cell_type": "code",
      "source": [
        "#verificando se uma chave faz parte do dicionário (in ou not in)\n",
        "print('filmes' in entretenimento)"
      ],
      "metadata": {
        "colab": {
          "base_uri": "https://localhost:8080/"
        },
        "id": "tQ1creaFZqox",
        "outputId": "5b33c95c-6c22-49af-d089-6e525296a109"
      },
      "execution_count": 5,
      "outputs": [
        {
          "output_type": "stream",
          "name": "stdout",
          "text": [
            "True\n"
          ]
        }
      ]
    },
    {
      "cell_type": "code",
      "source": [
        "print('teatro' in entretenimento)"
      ],
      "metadata": {
        "colab": {
          "base_uri": "https://localhost:8080/"
        },
        "id": "k20WJJZiZ0Oe",
        "outputId": "b722e845-2de6-4c4c-e981-2938d14d4df5"
      },
      "execution_count": 6,
      "outputs": [
        {
          "output_type": "stream",
          "name": "stdout",
          "text": [
            "False\n"
          ]
        }
      ]
    },
    {
      "cell_type": "markdown",
      "source": [
        "**Criando um dicionário através do** `dict()`:"
      ],
      "metadata": {
        "id": "oRw3qI32d7fH"
      }
    },
    {
      "cell_type": "code",
      "source": [
        "#Inicializando o dicionário com o dict()\n",
        "entretenimento = dict([('filmes', 'Soul'), ('séries', 'The Crown'), ('livros', 'O Pequeno Príncipe')])\n",
        "print(entretenimento)"
      ],
      "metadata": {
        "colab": {
          "base_uri": "https://localhost:8080/"
        },
        "id": "3yrafhb9dZrq",
        "outputId": "87a4259e-8b3a-4582-99fa-541be48bf715"
      },
      "execution_count": 5,
      "outputs": [
        {
          "output_type": "stream",
          "name": "stdout",
          "text": [
            "{'filmes': 'Soul', 'séries': 'The Crown', 'livros': 'O Pequeno Príncipe'}\n"
          ]
        }
      ]
    },
    {
      "cell_type": "markdown",
      "source": [
        "## Acesso aos elementos de um dicionário\n"
      ],
      "metadata": {
        "id": "tNuggG2wZ7hX"
      }
    },
    {
      "cell_type": "markdown",
      "source": [
        "Os valores podem ser acessados de duas formas:\n",
        "\n",
        "**Acessando os elementos através da chave:**\n",
        "\n",
        "`print(entretenimento['livros'])`"
      ],
      "metadata": {
        "id": "UZq0lsUcaA-e"
      }
    },
    {
      "cell_type": "code",
      "source": [
        "print(entretenimento['livros'])"
      ],
      "metadata": {
        "colab": {
          "base_uri": "https://localhost:8080/"
        },
        "id": "2Pa0DVptaMH4",
        "outputId": "a7c9998a-9b52-4e57-f86d-6464ba847670"
      },
      "execution_count": 7,
      "outputs": [
        {
          "output_type": "stream",
          "name": "stdout",
          "text": [
            "O Pequeno Príncipe\n"
          ]
        }
      ]
    },
    {
      "cell_type": "markdown",
      "source": [
        "**Acessando os elementos através da função** `get()`:\n",
        "\n",
        "`print(entretenimento.get('livros'))`"
      ],
      "metadata": {
        "id": "psxef3EmaPdi"
      }
    },
    {
      "cell_type": "code",
      "source": [
        "print(entretenimento.get('livros'))"
      ],
      "metadata": {
        "colab": {
          "base_uri": "https://localhost:8080/"
        },
        "id": "peb8-4muaU9Q",
        "outputId": "6b531371-e767-4234-c4af-413c6b147da0"
      },
      "execution_count": 8,
      "outputs": [
        {
          "output_type": "stream",
          "name": "stdout",
          "text": [
            "O Pequeno Príncipe\n"
          ]
        }
      ]
    },
    {
      "cell_type": "markdown",
      "source": [
        "## Inserção e removação de elementos de um dicionário"
      ],
      "metadata": {
        "id": "ZvMtEwLtawnb"
      }
    },
    {
      "cell_type": "markdown",
      "source": [
        "Novos pares de `chave` e `valor` podem ser inseridos em um dicionário já existente.\n",
        "\n",
        "`entretenimento['cantoras'] = 'Taylor Swift'`"
      ],
      "metadata": {
        "id": "qhL2LuvIa0zw"
      }
    },
    {
      "cell_type": "code",
      "source": [
        "#Inserindo um novo elemento neste dicionário\n",
        "entretenimento['cantoras'] = 'Taylor Swift'\n",
        "print(entretenimento)"
      ],
      "metadata": {
        "colab": {
          "base_uri": "https://localhost:8080/"
        },
        "id": "Ruk_w6Q-bAYE",
        "outputId": "ba214d8c-efda-429c-e053-6aff9da7afb8"
      },
      "execution_count": 10,
      "outputs": [
        {
          "output_type": "stream",
          "name": "stdout",
          "text": [
            "{'filmes': {'action': 'Fast and Furious', 'romance': 'Love is blind', 'pixar': 'Soul'}, 'séries': 'The Crown', 'livros': 'O Pequeno Príncipe', 'cantoras': 'Taylor Swift'}\n"
          ]
        }
      ]
    },
    {
      "cell_type": "markdown",
      "source": [
        "Também é possível remover um par `chave: valor` com o comando `del()`.\n",
        "\n",
        "`del entretenimento['livros']`"
      ],
      "metadata": {
        "id": "Rqbdwqa0bS5Q"
      }
    },
    {
      "cell_type": "code",
      "source": [
        "del entretenimento['cantoras']\n",
        "print (entretenimento)"
      ],
      "metadata": {
        "colab": {
          "base_uri": "https://localhost:8080/"
        },
        "id": "xKHvFt7_biZh",
        "outputId": "6f071767-b84c-471d-866d-001c9b609cd6"
      },
      "execution_count": 13,
      "outputs": [
        {
          "output_type": "stream",
          "name": "stdout",
          "text": [
            "{'filmes': {'action': 'Fast and Furious', 'romance': 'Love is blind', 'pixar': 'Soul'}, 'séries': 'The Crown'}\n"
          ]
        }
      ]
    }
  ]
}