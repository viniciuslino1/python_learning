{
  "nbformat": 4,
  "nbformat_minor": 0,
  "metadata": {
    "colab": {
      "provenance": [],
      "authorship_tag": "ABX9TyO1867dwz0oPU6zyZoS3zQb",
      "include_colab_link": true
    },
    "kernelspec": {
      "name": "python3",
      "display_name": "Python 3"
    },
    "language_info": {
      "name": "python"
    }
  },
  "cells": [
    {
      "cell_type": "markdown",
      "metadata": {
        "id": "view-in-github",
        "colab_type": "text"
      },
      "source": [
        "<a href=\"https://colab.research.google.com/github/viniciuslino1/python_learning/blob/main/fuctions.ipynb\" target=\"_parent\"><img src=\"https://colab.research.google.com/assets/colab-badge.svg\" alt=\"Open In Colab\"/></a>"
      ]
    },
    {
      "cell_type": "markdown",
      "source": [
        "# Reaproveitamento de código usando funções\n",
        "\n",
        "Um código que somente executa uma série de instruções pode se tornar rapidamente difícil de manter, tanto pelo seu tamanho quanto pela complexidade que cresce a cada nova linha."
      ],
      "metadata": {
        "id": "eCmW86vxfXzp"
      }
    },
    {
      "cell_type": "markdown",
      "source": [
        "## Estrutura de uma função\n",
        "\n",
        "Uma função é composta minimamente de alguns elementos báscios, como mostrado no exemplo abaixo:\n",
        "\n",
        "`def nome_da_função(<parâmetros> ou NADA): `\n",
        "\n",
        "  `<código da função>`\n",
        "\n",
        "  `<retorno> ou NADA`\n",
        "\n",
        "  `<ESPAÇO>`\n"
      ],
      "metadata": {
        "id": "I72Mg_BCfjK0"
      }
    },
    {
      "cell_type": "markdown",
      "source": [
        "Toda função deve começar com declaração **def**, que indica que uma função será descrita, seguida de um espaço e do **nome da função**. Na sequência, seguem os parênteses, que podem estar vazios ou conter argumentos como nomes de parâmetros. Fecha-se a primeira linha com **dois pontos**, indicando que o que vier a seguir, na linha de baixo, será o código da função **identado por 4 espaços ou TAB**. Essa identação de **python** indica que **todo código alinhado** com a identação **pertence ao escopo** definido na linha acima.\n",
        "\n",
        "O nome da função pode ser escrita de diversas formas, mas a mais correta, para nomes de função:\n",
        "\n",
        "*   Apenas palavras com letras **minúsculas**.\n",
        "*   Palavras separadas por *underscore*(_).\n",
        "*   O nome deve **explicar suscintamente** o que a função faz."
      ],
      "metadata": {
        "id": "q_j9pwoqgPpZ"
      }
    },
    {
      "cell_type": "code",
      "source": [
        "def dizer_bom_dia():\n",
        "    print('Bom dia')"
      ],
      "metadata": {
        "id": "yb2f6Zcnf4sq"
      },
      "execution_count": 1,
      "outputs": []
    },
    {
      "cell_type": "code",
      "source": [
        "dizer_bom_dia()"
      ],
      "metadata": {
        "colab": {
          "base_uri": "https://localhost:8080/"
        },
        "id": "4hFz6j_jh1bR",
        "outputId": "78858c2b-9cce-4b5e-a252-ff262193c4b1"
      },
      "execution_count": 2,
      "outputs": [
        {
          "output_type": "stream",
          "name": "stdout",
          "text": [
            "Bom dia\n"
          ]
        }
      ]
    },
    {
      "cell_type": "code",
      "source": [
        "dizer_bom_dia"
      ],
      "metadata": {
        "colab": {
          "base_uri": "https://localhost:8080/",
          "height": 103
        },
        "id": "-__MtGT6h3ru",
        "outputId": "300b7b14-cd44-44b5-f9f1-51707e660981"
      },
      "execution_count": 3,
      "outputs": [
        {
          "output_type": "execute_result",
          "data": {
            "text/plain": [
              "<function __main__.dizer_bom_dia()>"
            ],
            "text/html": [
              "<div style=\"max-width:800px; border: 1px solid var(--colab-border-color);\"><style>\n",
              "      pre.function-repr-contents {\n",
              "        overflow-x: auto;\n",
              "        padding: 8px 12px;\n",
              "        max-height: 500px;\n",
              "      }\n",
              "\n",
              "      pre.function-repr-contents.function-repr-contents-collapsed {\n",
              "        cursor: pointer;\n",
              "        max-height: 100px;\n",
              "      }\n",
              "    </style>\n",
              "    <pre style=\"white-space: initial; background:\n",
              "         var(--colab-secondary-surface-color); padding: 8px 12px;\n",
              "         border-bottom: 1px solid var(--colab-border-color);\"><b>dizer_bom_dia</b><br/>def dizer_bom_dia()</pre><pre class=\"function-repr-contents function-repr-contents-collapsed\" style=\"\"><a class=\"filepath\" style=\"display:none\" href=\"#\">/content/&lt;ipython-input-1-11e5441f9643&gt;</a>&lt;no docstring&gt;</pre></div>"
            ]
          },
          "metadata": {},
          "execution_count": 3
        }
      ]
    },
    {
      "cell_type": "markdown",
      "source": [
        "## Argumentos da Função\n",
        "\n",
        "Os argumentos (ou parâmetros de entrada) da função são declarados dentro dos parênteses na primeira linha. São efetivamente **variáveis criadas dentro do escopo da função**, que só podem ser acessadas pelo nome enquanto o interpretador estiver executando a função."
      ],
      "metadata": {
        "id": "olicNiG0iODh"
      }
    },
    {
      "cell_type": "code",
      "source": [
        "#função para somar dois numeros\n",
        "def soma_dois_numeros(n1, n2):\n",
        "    return n1 + n2"
      ],
      "metadata": {
        "id": "rgkM_joMihYD"
      },
      "execution_count": 4,
      "outputs": []
    },
    {
      "cell_type": "code",
      "source": [
        "#chamando função\n",
        "soma_dois_numeros(23,44)"
      ],
      "metadata": {
        "colab": {
          "base_uri": "https://localhost:8080/"
        },
        "id": "Eo7aI4-Ziqhb",
        "outputId": "2a35092a-e688-4fc5-e957-be6f1bc5e1c8"
      },
      "execution_count": 5,
      "outputs": [
        {
          "output_type": "execute_result",
          "data": {
            "text/plain": [
              "67"
            ]
          },
          "metadata": {},
          "execution_count": 5
        }
      ]
    },
    {
      "cell_type": "markdown",
      "source": [
        "## Função Anônima: Lambda\n",
        "\n",
        "A função anônima, ou `lambda`, é um recurso da linguagem python que permite que seja criado um código que funciona como uma função simples sem precisar criar um espaço na memória especialmente para isso, como é feito com as funções definidas por `def`.\n",
        "A idéia de ser anônima é exatamente por não se criar esse espaço na mmória, que é sempre referenciado pelo nome da função. Ao contrário, o `lambda` desaparece da memória (fica à mercê do `garbage collector`) assim que todas as referências a ele somem. Dessa forma, é uma das maneiras ideais para se passar um comportamento de função muito simples para dentro de alguma função ou trecho de código que será executado.\n",
        "\n",
        "Estrutura geral:\n",
        "\n",
        "`lambda <parâmetros> : <operações>`\n",
        "\n",
        "Não precisa aplicar return. Não pode passar de uma linha e código."
      ],
      "metadata": {
        "id": "eUrVzh_MjDrZ"
      }
    },
    {
      "cell_type": "code",
      "source": [
        "#atribuindo o lambda\n",
        "fn = lambda x: x**2\n",
        "\n",
        "fn(15)"
      ],
      "metadata": {
        "colab": {
          "base_uri": "https://localhost:8080/"
        },
        "id": "eCGiqGSfj5dk",
        "outputId": "05a6c854-7bd6-43b1-9093-96ddeab9d5d6"
      },
      "execution_count": 10,
      "outputs": [
        {
          "output_type": "execute_result",
          "data": {
            "text/plain": [
              "225"
            ]
          },
          "metadata": {},
          "execution_count": 10
        }
      ]
    },
    {
      "cell_type": "markdown",
      "source": [
        "Função `sorted()`\n",
        "\n",
        "Função que ordena uma lista de elementos ordenáveis. Usado normalmente, não necessita de `lambda`."
      ],
      "metadata": {
        "id": "63jjxTZFkXvQ"
      }
    },
    {
      "cell_type": "code",
      "source": [
        "#forma mais comum de usar o sorted\n",
        "x = [1,5,2,4,7,8,2,9]\n",
        "sorted(x)"
      ],
      "metadata": {
        "colab": {
          "base_uri": "https://localhost:8080/"
        },
        "id": "SHq3v3uKkjKs",
        "outputId": "e702bf1a-b527-43e3-900a-a4cee605bc23"
      },
      "execution_count": 11,
      "outputs": [
        {
          "output_type": "execute_result",
          "data": {
            "text/plain": [
              "[1, 2, 2, 4, 5, 7, 8, 9]"
            ]
          },
          "metadata": {},
          "execution_count": 11
        }
      ]
    },
    {
      "cell_type": "markdown",
      "source": [
        "Mas olhando a `docstring` da função, pode-se observar que existe um parâmetro `key` que permite mudar a forma tradicional de ordenação."
      ],
      "metadata": {
        "id": "37Ew8f31kwSm"
      }
    },
    {
      "cell_type": "code",
      "source": [
        "help(sorted)"
      ],
      "metadata": {
        "colab": {
          "base_uri": "https://localhost:8080/"
        },
        "id": "oUGzuNnFk4sK",
        "outputId": "260dd99d-e85e-41d0-e911-88cd830f013a"
      },
      "execution_count": 12,
      "outputs": [
        {
          "output_type": "stream",
          "name": "stdout",
          "text": [
            "Help on built-in function sorted in module builtins:\n",
            "\n",
            "sorted(iterable, /, *, key=None, reverse=False)\n",
            "    Return a new list containing all items from the iterable in ascending order.\n",
            "    \n",
            "    A custom key function can be supplied to customize the sort order, and the\n",
            "    reverse flag can be set to request the result in descending order.\n",
            "\n"
          ]
        }
      ]
    },
    {
      "cell_type": "code",
      "source": [
        "#Exemplo de ordenação customizada: pares, depois ímpares\n",
        "sorted (x, key=lambda x: x*10 if (x%2 == 1) else x)\n",
        "#Nessa função esta dando um peso ou valor maior para a chave dos números impares.\n",
        "#Os números ímpares vão valer sempre mais que os pares, a sorted vai olhar para os pares primeiro então"
      ],
      "metadata": {
        "colab": {
          "base_uri": "https://localhost:8080/"
        },
        "id": "pNOW0br_k8YV",
        "outputId": "609a402b-e189-4f34-bc32-adfcdc2da74e"
      },
      "execution_count": 15,
      "outputs": [
        {
          "output_type": "execute_result",
          "data": {
            "text/plain": [
              "[2, 2, 4, 8, 1, 5, 7, 9]"
            ]
          },
          "metadata": {},
          "execution_count": 15
        }
      ]
    },
    {
      "cell_type": "markdown",
      "source": [
        "Crie uma função com nome `converter_valor_absoluto` que recebe um número e retorna o valor absoluto deste número, ou seja:\n",
        "- se receber o número 8 retornará 8;\n",
        "- se receber o número -8, retornará 8 também.\n",
        "\n",
        "Teste  com os número `5` e `-5`"
      ],
      "metadata": {
        "id": "H7zFuWkrd2TJ"
      }
    },
    {
      "cell_type": "code",
      "source": [
        "def converter_valor_absoluto(i):\n",
        "    if i > 0:\n",
        "      print(i)\n",
        "    else:\n",
        "      print(i*-1)"
      ],
      "metadata": {
        "id": "ogsf4naQd28p"
      },
      "execution_count": 1,
      "outputs": []
    },
    {
      "cell_type": "code",
      "source": [
        "converter_valor_absoluto(-4678)"
      ],
      "metadata": {
        "colab": {
          "base_uri": "https://localhost:8080/"
        },
        "id": "_cEf59iAd6lF",
        "outputId": "f1a190da-6fac-4a24-8b83-2b42183bb70a"
      },
      "execution_count": 2,
      "outputs": [
        {
          "output_type": "stream",
          "name": "stdout",
          "text": [
            "4678\n"
          ]
        }
      ]
    }
  ]
}