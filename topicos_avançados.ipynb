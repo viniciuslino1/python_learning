{
  "nbformat": 4,
  "nbformat_minor": 0,
  "metadata": {
    "colab": {
      "provenance": [],
      "authorship_tag": "ABX9TyNWPVqhqor4cS6qZcydYOq6",
      "include_colab_link": true
    },
    "kernelspec": {
      "name": "python3",
      "display_name": "Python 3"
    },
    "language_info": {
      "name": "python"
    }
  },
  "cells": [
    {
      "cell_type": "markdown",
      "metadata": {
        "id": "view-in-github",
        "colab_type": "text"
      },
      "source": [
        "<a href=\"https://colab.research.google.com/github/viniciuslino1/python_learning/blob/main/topicos_avan%C3%A7ados.ipynb\" target=\"_parent\"><img src=\"https://colab.research.google.com/assets/colab-badge.svg\" alt=\"Open In Colab\"/></a>"
      ]
    },
    {
      "cell_type": "markdown",
      "source": [],
      "metadata": {
        "id": "Qs2HWa3jvlB5"
      }
    },
    {
      "cell_type": "code",
      "source": [
        "meu_dict = {\n",
        "    'chave':10,\n",
        "    'chave2':'valor2'\n",
        "}"
      ],
      "metadata": {
        "id": "0tLInjzMvk18"
      },
      "execution_count": 5,
      "outputs": []
    },
    {
      "cell_type": "code",
      "execution_count": 6,
      "metadata": {
        "colab": {
          "base_uri": "https://localhost:8080/"
        },
        "id": "K4k_dRiGvEzJ",
        "outputId": "f80f1ebc-9562-47b1-be26-bbaeb0637dcb"
      },
      "outputs": [
        {
          "output_type": "execute_result",
          "data": {
            "text/plain": [
              "10"
            ]
          },
          "metadata": {},
          "execution_count": 6
        }
      ],
      "source": [
        "meu_dict['chave']"
      ]
    },
    {
      "cell_type": "code",
      "source": [
        "#ver as chaves do dicionário\n",
        "meu_dict.keys()"
      ],
      "metadata": {
        "colab": {
          "base_uri": "https://localhost:8080/"
        },
        "id": "a3oP1xfqwFjB",
        "outputId": "7f3ebb47-abec-4e7b-d242-e8b418431182"
      },
      "execution_count": 9,
      "outputs": [
        {
          "output_type": "execute_result",
          "data": {
            "text/plain": [
              "dict_keys(['chave', 'chave2', 'novo_elemento'])"
            ]
          },
          "metadata": {},
          "execution_count": 9
        }
      ]
    },
    {
      "cell_type": "code",
      "source": [
        "meu_dict['novo_elemento'] = 20"
      ],
      "metadata": {
        "id": "WsZtHtWKwLG6"
      },
      "execution_count": 8,
      "outputs": []
    },
    {
      "cell_type": "code",
      "source": [
        "#o comando .keys não consegue usar as mesmas notações de consulta das listas, a não ser que seja usado o comando list antes\n",
        "list(meu_dict.keys())[0]"
      ],
      "metadata": {
        "colab": {
          "base_uri": "https://localhost:8080/",
          "height": 36
        },
        "id": "TLXTPRHiwYlm",
        "outputId": "25f1749e-310a-49ed-fc0a-e5fc1569d3f2"
      },
      "execution_count": 12,
      "outputs": [
        {
          "output_type": "execute_result",
          "data": {
            "text/plain": [
              "'chave'"
            ],
            "application/vnd.google.colaboratory.intrinsic+json": {
              "type": "string"
            }
          },
          "metadata": {},
          "execution_count": 12
        }
      ]
    },
    {
      "cell_type": "code",
      "source": [
        "#acessar valores o comando é .values\n",
        "list(meu_dict.values())"
      ],
      "metadata": {
        "colab": {
          "base_uri": "https://localhost:8080/"
        },
        "id": "GG2mS3ltw1Z7",
        "outputId": "a494a18e-abca-4600-fd4f-1f7a358215f4"
      },
      "execution_count": 13,
      "outputs": [
        {
          "output_type": "execute_result",
          "data": {
            "text/plain": [
              "[10, 'valor2', 20]"
            ]
          },
          "metadata": {},
          "execution_count": 13
        }
      ]
    },
    {
      "cell_type": "code",
      "source": [
        "#usando for loop para acessar informações\n",
        "\n",
        "for key in meu_dict.keys():\n",
        "  print(key)"
      ],
      "metadata": {
        "colab": {
          "base_uri": "https://localhost:8080/"
        },
        "id": "GhYcmUsmw8rH",
        "outputId": "4c677f91-910d-4ea2-a283-58cc4189309d"
      },
      "execution_count": 14,
      "outputs": [
        {
          "output_type": "stream",
          "name": "stdout",
          "text": [
            "chave\n",
            "chave2\n",
            "novo_elemento\n"
          ]
        }
      ]
    },
    {
      "cell_type": "code",
      "source": [
        "for value in meu_dict.values():\n",
        "  print(value)"
      ],
      "metadata": {
        "colab": {
          "base_uri": "https://localhost:8080/"
        },
        "id": "rkeS1p4CxJsx",
        "outputId": "ad602fc4-f2ce-4aa0-fd39-9cd9ceaa82f6"
      },
      "execution_count": 15,
      "outputs": [
        {
          "output_type": "stream",
          "name": "stdout",
          "text": [
            "10\n",
            "valor2\n",
            "20\n"
          ]
        }
      ]
    },
    {
      "cell_type": "code",
      "source": [
        "for key, value in meu_dict.items():\n",
        "  print('Chave:', key, 'Valor:', value)"
      ],
      "metadata": {
        "colab": {
          "base_uri": "https://localhost:8080/"
        },
        "id": "Erjl3ZgYxUiD",
        "outputId": "95393495-e718-442f-af31-1d9a433190b0"
      },
      "execution_count": 18,
      "outputs": [
        {
          "output_type": "stream",
          "name": "stdout",
          "text": [
            "Chave: chave Valor: 10\n",
            "Chave: chave2 Valor: valor2\n",
            "Chave: novo_elemento Valor: 20\n"
          ]
        }
      ]
    },
    {
      "cell_type": "code",
      "source": [
        "#usando operador in, nesse formato ele só checa as chaves, por isso false\n",
        "\n",
        "10 in meu_dict"
      ],
      "metadata": {
        "colab": {
          "base_uri": "https://localhost:8080/"
        },
        "id": "4vQz-IXexwxR",
        "outputId": "cf53f682-c5d6-45f1-fa2c-75a347ce3de5"
      },
      "execution_count": 19,
      "outputs": [
        {
          "output_type": "execute_result",
          "data": {
            "text/plain": [
              "False"
            ]
          },
          "metadata": {},
          "execution_count": 19
        }
      ]
    },
    {
      "cell_type": "code",
      "source": [
        "'chave' in meu_dict"
      ],
      "metadata": {
        "colab": {
          "base_uri": "https://localhost:8080/"
        },
        "id": "LiHzLppSx8KW",
        "outputId": "92c28d23-2465-40b5-babe-eacfc3aa3c5b"
      },
      "execution_count": 20,
      "outputs": [
        {
          "output_type": "execute_result",
          "data": {
            "text/plain": [
              "True"
            ]
          },
          "metadata": {},
          "execution_count": 20
        }
      ]
    },
    {
      "cell_type": "code",
      "source": [
        "# se usar o .values ele vai olhar os valores\n",
        "10 in meu_dict.values()"
      ],
      "metadata": {
        "colab": {
          "base_uri": "https://localhost:8080/"
        },
        "id": "SLB4JwGLyIkA",
        "outputId": "b1db643b-0125-430b-eaa3-f52460e37fb9"
      },
      "execution_count": 21,
      "outputs": [
        {
          "output_type": "execute_result",
          "data": {
            "text/plain": [
              "True"
            ]
          },
          "metadata": {},
          "execution_count": 21
        }
      ]
    },
    {
      "cell_type": "code",
      "source": [
        "#verificar se tem o 10 no dicionário e printar sua chave\n",
        "for key, value in meu_dict.items():\n",
        "  if value ==10:\n",
        "    print(key)"
      ],
      "metadata": {
        "colab": {
          "base_uri": "https://localhost:8080/"
        },
        "id": "AiMVzil9yR3L",
        "outputId": "d8d8bd7c-794c-4c6b-f128-42bf2f620a10"
      },
      "execution_count": 24,
      "outputs": [
        {
          "output_type": "stream",
          "name": "stdout",
          "text": [
            "chave\n"
          ]
        }
      ]
    },
    {
      "cell_type": "code",
      "source": [
        "#inserindo os dados do range de 0 até 9 ao quadrado na minha lista\n",
        "minha_lista = []\n",
        "for i in range(10):\n",
        "  minha_lista.append(i**2)\n",
        "  print(minha_lista)"
      ],
      "metadata": {
        "colab": {
          "base_uri": "https://localhost:8080/"
        },
        "id": "Wn0RI7xjyRvy",
        "outputId": "7db4cbd4-5823-45f3-8064-bbd91cac7f45"
      },
      "execution_count": 26,
      "outputs": [
        {
          "output_type": "stream",
          "name": "stdout",
          "text": [
            "[0]\n",
            "[0, 1]\n",
            "[0, 1, 4]\n",
            "[0, 1, 4, 9]\n",
            "[0, 1, 4, 9, 16]\n",
            "[0, 1, 4, 9, 16, 25]\n",
            "[0, 1, 4, 9, 16, 25, 36]\n",
            "[0, 1, 4, 9, 16, 25, 36, 49]\n",
            "[0, 1, 4, 9, 16, 25, 36, 49, 64]\n",
            "[0, 1, 4, 9, 16, 25, 36, 49, 64, 81]\n"
          ]
        }
      ]
    },
    {
      "cell_type": "code",
      "source": [
        "#comprehension\n",
        "[i**2 for i in range(10)]"
      ],
      "metadata": {
        "colab": {
          "base_uri": "https://localhost:8080/"
        },
        "id": "yc4DEnSE2Nbd",
        "outputId": "ca7bf7f5-f1e9-4d08-a23e-8b4494f3dba2"
      },
      "execution_count": 27,
      "outputs": [
        {
          "output_type": "execute_result",
          "data": {
            "text/plain": [
              "[0, 1, 4, 9, 16, 25, 36, 49, 64, 81]"
            ]
          },
          "metadata": {},
          "execution_count": 27
        }
      ]
    },
    {
      "cell_type": "code",
      "source": [
        "#loops alinhados\n",
        "minha_lista = []\n",
        "for i in range(10):\n",
        "  for j in range (2):\n",
        "    minha_lista.append(i*j)\n",
        "    print(minha_lista)"
      ],
      "metadata": {
        "colab": {
          "base_uri": "https://localhost:8080/"
        },
        "id": "v2M6pLl82sWW",
        "outputId": "d6d0261d-673a-4741-bb52-c3e3f7d16600"
      },
      "execution_count": 30,
      "outputs": [
        {
          "output_type": "stream",
          "name": "stdout",
          "text": [
            "[0]\n",
            "[0, 0]\n",
            "[0, 0, 0]\n",
            "[0, 0, 0, 1]\n",
            "[0, 0, 0, 1, 0]\n",
            "[0, 0, 0, 1, 0, 2]\n",
            "[0, 0, 0, 1, 0, 2, 0]\n",
            "[0, 0, 0, 1, 0, 2, 0, 3]\n",
            "[0, 0, 0, 1, 0, 2, 0, 3, 0]\n",
            "[0, 0, 0, 1, 0, 2, 0, 3, 0, 4]\n",
            "[0, 0, 0, 1, 0, 2, 0, 3, 0, 4, 0]\n",
            "[0, 0, 0, 1, 0, 2, 0, 3, 0, 4, 0, 5]\n",
            "[0, 0, 0, 1, 0, 2, 0, 3, 0, 4, 0, 5, 0]\n",
            "[0, 0, 0, 1, 0, 2, 0, 3, 0, 4, 0, 5, 0, 6]\n",
            "[0, 0, 0, 1, 0, 2, 0, 3, 0, 4, 0, 5, 0, 6, 0]\n",
            "[0, 0, 0, 1, 0, 2, 0, 3, 0, 4, 0, 5, 0, 6, 0, 7]\n",
            "[0, 0, 0, 1, 0, 2, 0, 3, 0, 4, 0, 5, 0, 6, 0, 7, 0]\n",
            "[0, 0, 0, 1, 0, 2, 0, 3, 0, 4, 0, 5, 0, 6, 0, 7, 0, 8]\n",
            "[0, 0, 0, 1, 0, 2, 0, 3, 0, 4, 0, 5, 0, 6, 0, 7, 0, 8, 0]\n",
            "[0, 0, 0, 1, 0, 2, 0, 3, 0, 4, 0, 5, 0, 6, 0, 7, 0, 8, 0, 9]\n"
          ]
        }
      ]
    },
    {
      "cell_type": "code",
      "source": [
        "[i*j for i in range(10) for j in range(2)]"
      ],
      "metadata": {
        "colab": {
          "base_uri": "https://localhost:8080/"
        },
        "id": "_w6ehnUO3CWx",
        "outputId": "629a9566-d671-4191-93e4-8ec031c9d0d8"
      },
      "execution_count": 32,
      "outputs": [
        {
          "output_type": "execute_result",
          "data": {
            "text/plain": [
              "[0, 0, 0, 1, 0, 2, 0, 3, 0, 4, 0, 5, 0, 6, 0, 7, 0, 8, 0, 9]"
            ]
          },
          "metadata": {},
          "execution_count": 32
        }
      ]
    },
    {
      "cell_type": "code",
      "source": [
        "#a lista não é o único que pode usar o comprehension\n",
        "[int(i/2) for i in range(10)]"
      ],
      "metadata": {
        "colab": {
          "base_uri": "https://localhost:8080/"
        },
        "id": "ZO3wjPm13XW-",
        "outputId": "1dbd2317-4d3b-4bf3-bdfd-2876946e04cc"
      },
      "execution_count": 33,
      "outputs": [
        {
          "output_type": "execute_result",
          "data": {
            "text/plain": [
              "[0, 0, 1, 1, 2, 2, 3, 3, 4, 4]"
            ]
          },
          "metadata": {},
          "execution_count": 33
        }
      ]
    },
    {
      "cell_type": "code",
      "source": [
        "#conjuntos em python são sets, eles não tem elementos duplicado como a lista\n",
        "{int(i/2) for i in range(10)}"
      ],
      "metadata": {
        "colab": {
          "base_uri": "https://localhost:8080/"
        },
        "id": "rkrOM-cQ3lNP",
        "outputId": "953cb984-b84f-454d-85fe-42af6e401865"
      },
      "execution_count": 34,
      "outputs": [
        {
          "output_type": "execute_result",
          "data": {
            "text/plain": [
              "{0, 1, 2, 3, 4}"
            ]
          },
          "metadata": {},
          "execution_count": 34
        }
      ]
    },
    {
      "cell_type": "code",
      "source": [
        "#dict comprehension, dicionários tem chave e valor\n",
        "{k: v for k,v in meu_dict.items()}"
      ],
      "metadata": {
        "colab": {
          "base_uri": "https://localhost:8080/"
        },
        "id": "MKrj3dxB3zEb",
        "outputId": "17a7979e-c57b-45e5-e092-68f7d81644a3"
      },
      "execution_count": 35,
      "outputs": [
        {
          "output_type": "execute_result",
          "data": {
            "text/plain": [
              "{'chave': 10, 'chave2': 'valor2', 'novo_elemento': 20}"
            ]
          },
          "metadata": {},
          "execution_count": 35
        }
      ]
    },
    {
      "cell_type": "code",
      "source": [
        "#mede tempo de execução do codigo\n",
        "%%time\n",
        "minha_lista = []\n",
        "for i in range(100_000):\n",
        "  minha_lista.append(i**2)"
      ],
      "metadata": {
        "colab": {
          "base_uri": "https://localhost:8080/"
        },
        "id": "WGDp5pQC5YTq",
        "outputId": "2c9ca30f-bd8a-411c-f920-41f15128aaed"
      },
      "execution_count": 36,
      "outputs": [
        {
          "output_type": "stream",
          "name": "stdout",
          "text": [
            "CPU times: user 42.2 ms, sys: 1.82 ms, total: 44.1 ms\n",
            "Wall time: 45 ms\n"
          ]
        }
      ]
    },
    {
      "cell_type": "code",
      "source": [
        "#decréscimo de 15% do tempo de processamento\n",
        "%%time\n",
        "aux = [i**2 for i in range(100_000)]"
      ],
      "metadata": {
        "colab": {
          "base_uri": "https://localhost:8080/"
        },
        "id": "olN7ESzI5s6q",
        "outputId": "ab107748-895d-458c-98c0-5faa52cecc52"
      },
      "execution_count": 37,
      "outputs": [
        {
          "output_type": "stream",
          "name": "stdout",
          "text": [
            "CPU times: user 33.9 ms, sys: 2.93 ms, total: 36.8 ms\n",
            "Wall time: 38.1 ms\n"
          ]
        }
      ]
    },
    {
      "cell_type": "code",
      "source": [
        "#inverter dicionário\n",
        "novo_dict = {}\n",
        "for k,v in meu_dict.items():\n",
        "  novo_dict[v] = k\n",
        "novo_dict"
      ],
      "metadata": {
        "colab": {
          "base_uri": "https://localhost:8080/"
        },
        "id": "iw2u0F2M6DT8",
        "outputId": "8cb10805-a5e3-48d5-c500-ec501a43876a"
      },
      "execution_count": 38,
      "outputs": [
        {
          "output_type": "execute_result",
          "data": {
            "text/plain": [
              "{10: 'chave', 'valor2': 'chave2', 20: 'novo_elemento'}"
            ]
          },
          "metadata": {},
          "execution_count": 38
        }
      ]
    },
    {
      "cell_type": "code",
      "source": [
        "{v: k for k,v in meu_dict.items()}"
      ],
      "metadata": {
        "colab": {
          "base_uri": "https://localhost:8080/"
        },
        "id": "sXGHs-KF6ULm",
        "outputId": "3c4ad3ac-947a-45f4-c542-cf623efb2157"
      },
      "execution_count": 39,
      "outputs": [
        {
          "output_type": "execute_result",
          "data": {
            "text/plain": [
              "{10: 'chave', 'valor2': 'chave2', 20: 'novo_elemento'}"
            ]
          },
          "metadata": {},
          "execution_count": 39
        }
      ]
    },
    {
      "cell_type": "code",
      "source": [
        "lista = [i for i in range(10)]"
      ],
      "metadata": {
        "id": "J65-M6Rt64SR"
      },
      "execution_count": 40,
      "outputs": []
    },
    {
      "cell_type": "code",
      "source": [
        "lista"
      ],
      "metadata": {
        "colab": {
          "base_uri": "https://localhost:8080/"
        },
        "id": "z8TqUfLd7vVC",
        "outputId": "5945fd54-781d-462a-c5a0-e7c90787bf84"
      },
      "execution_count": 41,
      "outputs": [
        {
          "output_type": "execute_result",
          "data": {
            "text/plain": [
              "[0, 1, 2, 3, 4, 5, 6, 7, 8, 9]"
            ]
          },
          "metadata": {},
          "execution_count": 41
        }
      ]
    },
    {
      "cell_type": "code",
      "source": [
        "lista_invertida = [i for i in range(9, -1, -1)]"
      ],
      "metadata": {
        "id": "EoGYaA3F7wrL"
      },
      "execution_count": 42,
      "outputs": []
    },
    {
      "cell_type": "code",
      "source": [
        "lista_invertida"
      ],
      "metadata": {
        "colab": {
          "base_uri": "https://localhost:8080/"
        },
        "id": "N_9dk13S741U",
        "outputId": "bd47c64c-25b1-4ba2-ec3c-4e659af56891"
      },
      "execution_count": 43,
      "outputs": [
        {
          "output_type": "execute_result",
          "data": {
            "text/plain": [
              "[9, 8, 7, 6, 5, 4, 3, 2, 1, 0]"
            ]
          },
          "metadata": {},
          "execution_count": 43
        }
      ]
    },
    {
      "cell_type": "code",
      "source": [
        "#retorna lista ordenada\n",
        "sorted(lista_invertida)"
      ],
      "metadata": {
        "colab": {
          "base_uri": "https://localhost:8080/"
        },
        "id": "QSf_C191-C6u",
        "outputId": "acda1a3b-a0c0-410d-aba2-24dd5f3907ca"
      },
      "execution_count": 44,
      "outputs": [
        {
          "output_type": "execute_result",
          "data": {
            "text/plain": [
              "[0, 1, 2, 3, 4, 5, 6, 7, 8, 9]"
            ]
          },
          "metadata": {},
          "execution_count": 44
        }
      ]
    },
    {
      "cell_type": "code",
      "source": [
        "#para alterar de fato a lista para ficar ordenada\n",
        "lista_nao_invertida = sorted(lista_invertida)\n",
        "lista_nao_invertida"
      ],
      "metadata": {
        "colab": {
          "base_uri": "https://localhost:8080/"
        },
        "id": "pzOFFXRZ-I8t",
        "outputId": "da352cff-1a0d-4f12-d742-a58e83f4b29e"
      },
      "execution_count": 45,
      "outputs": [
        {
          "output_type": "execute_result",
          "data": {
            "text/plain": [
              "[0, 1, 2, 3, 4, 5, 6, 7, 8, 9]"
            ]
          },
          "metadata": {},
          "execution_count": 45
        }
      ]
    },
    {
      "cell_type": "code",
      "source": [
        "#inverter novamente\n",
        "sorted(lista_nao_invertida, reverse=True)"
      ],
      "metadata": {
        "colab": {
          "base_uri": "https://localhost:8080/"
        },
        "id": "pxOND8Vr-V_D",
        "outputId": "6accefb6-f13a-486f-b7e9-50c45fa2afd5"
      },
      "execution_count": 46,
      "outputs": [
        {
          "output_type": "execute_result",
          "data": {
            "text/plain": [
              "[9, 8, 7, 6, 5, 4, 3, 2, 1, 0]"
            ]
          },
          "metadata": {},
          "execution_count": 46
        }
      ]
    },
    {
      "cell_type": "code",
      "source": [
        "#outra forma de inverter\n",
        "list(reversed(sorted(lista_nao_invertida)))"
      ],
      "metadata": {
        "colab": {
          "base_uri": "https://localhost:8080/"
        },
        "id": "77WWQgqF-dtQ",
        "outputId": "03b8b0dc-d27d-4e1b-b5ba-edf15764af8e"
      },
      "execution_count": 49,
      "outputs": [
        {
          "output_type": "execute_result",
          "data": {
            "text/plain": [
              "[9, 8, 7, 6, 5, 4, 3, 2, 1, 0]"
            ]
          },
          "metadata": {},
          "execution_count": 49
        }
      ]
    },
    {
      "cell_type": "code",
      "source": [
        "lista[-5:]"
      ],
      "metadata": {
        "colab": {
          "base_uri": "https://localhost:8080/"
        },
        "id": "4_5ibIlQ-zas",
        "outputId": "bc10fd66-4dae-4317-d1b2-1635ba9c8269"
      },
      "execution_count": 53,
      "outputs": [
        {
          "output_type": "execute_result",
          "data": {
            "text/plain": [
              "[5, 6, 7, 8, 9]"
            ]
          },
          "metadata": {},
          "execution_count": 53
        }
      ]
    },
    {
      "cell_type": "code",
      "source": [
        "lista[0:6:2]"
      ],
      "metadata": {
        "colab": {
          "base_uri": "https://localhost:8080/"
        },
        "id": "_JvGV_xE_BI_",
        "outputId": "fa4726c3-4795-40af-e83b-1114b8273daa"
      },
      "execution_count": 54,
      "outputs": [
        {
          "output_type": "execute_result",
          "data": {
            "text/plain": [
              "[0, 2, 4]"
            ]
          },
          "metadata": {},
          "execution_count": 54
        }
      ]
    },
    {
      "cell_type": "code",
      "source": [
        "#outra forma de retonar ela invertida sem função\n",
        "lista[::-1]"
      ],
      "metadata": {
        "colab": {
          "base_uri": "https://localhost:8080/"
        },
        "id": "nB2bz6Lo_LvK",
        "outputId": "eb0fc582-3971-47a5-fcc6-063b427d3fcb"
      },
      "execution_count": 55,
      "outputs": [
        {
          "output_type": "execute_result",
          "data": {
            "text/plain": [
              "[9, 8, 7, 6, 5, 4, 3, 2, 1, 0]"
            ]
          },
          "metadata": {},
          "execution_count": 55
        }
      ]
    },
    {
      "cell_type": "code",
      "source": [
        "max(lista)"
      ],
      "metadata": {
        "colab": {
          "base_uri": "https://localhost:8080/"
        },
        "id": "pj7Q96vW_ddH",
        "outputId": "0f25b4f7-2213-47a9-d340-2912597b4458"
      },
      "execution_count": 56,
      "outputs": [
        {
          "output_type": "execute_result",
          "data": {
            "text/plain": [
              "9"
            ]
          },
          "metadata": {},
          "execution_count": 56
        }
      ]
    },
    {
      "cell_type": "code",
      "source": [
        "min(lista)"
      ],
      "metadata": {
        "colab": {
          "base_uri": "https://localhost:8080/"
        },
        "id": "sWD_PHP3_e6B",
        "outputId": "4a1b446f-14c4-4b6f-d8dd-7bf4bf21a32b"
      },
      "execution_count": 58,
      "outputs": [
        {
          "output_type": "execute_result",
          "data": {
            "text/plain": [
              "0"
            ]
          },
          "metadata": {},
          "execution_count": 58
        }
      ]
    },
    {
      "cell_type": "code",
      "source": [
        "#ao inves de começar somando 0, ele vai começar somando 10\n",
        "sum(lista, start=10)"
      ],
      "metadata": {
        "colab": {
          "base_uri": "https://localhost:8080/"
        },
        "id": "O5PLdRqA_jDC",
        "outputId": "cba19b70-6632-4f05-a253-1f30f7ad8170"
      },
      "execution_count": 61,
      "outputs": [
        {
          "output_type": "execute_result",
          "data": {
            "text/plain": [
              "55"
            ]
          },
          "metadata": {},
          "execution_count": 61
        }
      ]
    },
    {
      "cell_type": "code",
      "source": [
        "#comprimento lista\n",
        "len(lista)"
      ],
      "metadata": {
        "colab": {
          "base_uri": "https://localhost:8080/"
        },
        "id": "cKut0vPsAHaO",
        "outputId": "479827f9-d3ae-4b40-81c7-8a958071cc99"
      },
      "execution_count": 62,
      "outputs": [
        {
          "output_type": "execute_result",
          "data": {
            "text/plain": [
              "10"
            ]
          },
          "metadata": {},
          "execution_count": 62
        }
      ]
    },
    {
      "cell_type": "code",
      "source": [
        "lista_booleana = [False, False, False, True]"
      ],
      "metadata": {
        "id": "z1CL7FeCAURn"
      },
      "execution_count": 63,
      "outputs": []
    },
    {
      "cell_type": "code",
      "source": [
        "#quero saber se algum desses elementos é verdadeiro\n",
        "any(lista_booleana)"
      ],
      "metadata": {
        "colab": {
          "base_uri": "https://localhost:8080/"
        },
        "id": "Q4wsDljJAZCh",
        "outputId": "6a6b6cd8-505d-40bf-9a4b-1705f0d1de1d"
      },
      "execution_count": 65,
      "outputs": [
        {
          "output_type": "execute_result",
          "data": {
            "text/plain": [
              "True"
            ]
          },
          "metadata": {},
          "execution_count": 65
        }
      ]
    },
    {
      "cell_type": "code",
      "source": [
        "lista_bool = [False, False, False, False, []]"
      ],
      "metadata": {
        "id": "8BUAeM4dAimu"
      },
      "execution_count": 69,
      "outputs": []
    },
    {
      "cell_type": "code",
      "source": [
        "#listas vazias são interpretadas como falsas\n",
        "any(lista_bool)"
      ],
      "metadata": {
        "colab": {
          "base_uri": "https://localhost:8080/"
        },
        "id": "9bIg35foAkuF",
        "outputId": "4575c2db-6316-4859-f168-b10823e9762c"
      },
      "execution_count": 70,
      "outputs": [
        {
          "output_type": "execute_result",
          "data": {
            "text/plain": [
              "False"
            ]
          },
          "metadata": {},
          "execution_count": 70
        }
      ]
    },
    {
      "cell_type": "code",
      "source": [
        "lista_bool = [[1], [2], [3], [4], []]"
      ],
      "metadata": {
        "id": "UllVVzRTA2Vk"
      },
      "execution_count": 71,
      "outputs": []
    },
    {
      "cell_type": "code",
      "source": [
        "#nesse caso ele olha se algum elemento não é vazio\n",
        "any(lista_bool)"
      ],
      "metadata": {
        "colab": {
          "base_uri": "https://localhost:8080/"
        },
        "id": "ayCs1Rn7A7s3",
        "outputId": "1aa44be3-ab16-4078-894e-1a950cc26afe"
      },
      "execution_count": 72,
      "outputs": [
        {
          "output_type": "execute_result",
          "data": {
            "text/plain": [
              "True"
            ]
          },
          "metadata": {},
          "execution_count": 72
        }
      ]
    },
    {
      "cell_type": "code",
      "source": [
        "# a função all no lugar de any olha se todos os elementos são verdadeiros ou não\n",
        "all(lista_bool)"
      ],
      "metadata": {
        "colab": {
          "base_uri": "https://localhost:8080/"
        },
        "id": "QOrBwHAXBBYF",
        "outputId": "65d2f092-e404-4147-d637-185f444b0c54"
      },
      "execution_count": 73,
      "outputs": [
        {
          "output_type": "execute_result",
          "data": {
            "text/plain": [
              "False"
            ]
          },
          "metadata": {},
          "execution_count": 73
        }
      ]
    },
    {
      "cell_type": "code",
      "source": [
        "def add_1(x):\n",
        "  return x+1"
      ],
      "metadata": {
        "id": "zF_Za0ajEWpa"
      },
      "execution_count": 75,
      "outputs": []
    },
    {
      "cell_type": "code",
      "source": [
        "add_1(1)"
      ],
      "metadata": {
        "colab": {
          "base_uri": "https://localhost:8080/"
        },
        "id": "RgktI89AEak_",
        "outputId": "480f724d-34ca-404a-9365-c38611056ed8"
      },
      "execution_count": 76,
      "outputs": [
        {
          "output_type": "execute_result",
          "data": {
            "text/plain": [
              "2"
            ]
          },
          "metadata": {},
          "execution_count": 76
        }
      ]
    },
    {
      "cell_type": "code",
      "source": [
        "list(map(add_1, lista))"
      ],
      "metadata": {
        "colab": {
          "base_uri": "https://localhost:8080/"
        },
        "id": "NFoVWNhqEfbz",
        "outputId": "cef71cbf-c2cd-4522-834e-17694cb2cf21"
      },
      "execution_count": 79,
      "outputs": [
        {
          "output_type": "execute_result",
          "data": {
            "text/plain": [
              "[1, 2, 3, 4, 5, 6, 7, 8, 9, 10]"
            ]
          },
          "metadata": {},
          "execution_count": 79
        }
      ]
    },
    {
      "cell_type": "code",
      "source": [
        "def e_par(x):\n",
        "  if x%2 == 0:\n",
        "    return True\n",
        "  else:\n",
        "    return False"
      ],
      "metadata": {
        "id": "tZ-AHKHREyV0"
      },
      "execution_count": 80,
      "outputs": []
    },
    {
      "cell_type": "code",
      "source": [
        "e_par(2)"
      ],
      "metadata": {
        "colab": {
          "base_uri": "https://localhost:8080/"
        },
        "id": "8bEivEzuE8c4",
        "outputId": "64f8bf8a-019b-4c81-b263-64171d7e602f"
      },
      "execution_count": 81,
      "outputs": [
        {
          "output_type": "execute_result",
          "data": {
            "text/plain": [
              "True"
            ]
          },
          "metadata": {},
          "execution_count": 81
        }
      ]
    },
    {
      "cell_type": "code",
      "source": [
        "#retorna tudo que a função diz que é verdadeiro\n",
        "list(filter(e_par, lista))"
      ],
      "metadata": {
        "colab": {
          "base_uri": "https://localhost:8080/"
        },
        "id": "WzcXl4xJE9-e",
        "outputId": "cdbf5ad6-f841-4bd5-ab14-83e7952b3065"
      },
      "execution_count": 83,
      "outputs": [
        {
          "output_type": "execute_result",
          "data": {
            "text/plain": [
              "[0, 2, 4, 6, 8]"
            ]
          },
          "metadata": {},
          "execution_count": 83
        }
      ]
    },
    {
      "cell_type": "code",
      "source": [
        "from functools import reduce"
      ],
      "metadata": {
        "id": "qRtRHVIGFcti"
      },
      "execution_count": 84,
      "outputs": []
    },
    {
      "cell_type": "code",
      "source": [
        "def add(a,b):\n",
        "  print(a, '+', b, '=', a+b)\n",
        "  return a+b"
      ],
      "metadata": {
        "id": "DrFeUASyFj9N"
      },
      "execution_count": 85,
      "outputs": []
    },
    {
      "cell_type": "code",
      "source": [
        "add(4,2)"
      ],
      "metadata": {
        "colab": {
          "base_uri": "https://localhost:8080/"
        },
        "id": "Cbk4uj7zFyto",
        "outputId": "2e849ad8-8cf6-41df-bff8-3d681c041c56"
      },
      "execution_count": 86,
      "outputs": [
        {
          "output_type": "stream",
          "name": "stdout",
          "text": [
            "4 + 2 = 6\n"
          ]
        },
        {
          "output_type": "execute_result",
          "data": {
            "text/plain": [
              "6"
            ]
          },
          "metadata": {},
          "execution_count": 86
        }
      ]
    },
    {
      "cell_type": "code",
      "source": [
        "#pega o resultado da função anterior e usa ele como entrada para a proxima iteração, o map aplica individualmente\n",
        "reduce(add, lista)"
      ],
      "metadata": {
        "colab": {
          "base_uri": "https://localhost:8080/"
        },
        "id": "dMOeIWaQF1mC",
        "outputId": "9d8bc327-9b93-4143-8ed5-5304db0b3205"
      },
      "execution_count": 88,
      "outputs": [
        {
          "output_type": "stream",
          "name": "stdout",
          "text": [
            "0 + 1 = 1\n",
            "1 + 2 = 3\n",
            "3 + 3 = 6\n",
            "6 + 4 = 10\n",
            "10 + 5 = 15\n",
            "15 + 6 = 21\n",
            "21 + 7 = 28\n",
            "28 + 8 = 36\n",
            "36 + 9 = 45\n"
          ]
        },
        {
          "output_type": "execute_result",
          "data": {
            "text/plain": [
              "45"
            ]
          },
          "metadata": {},
          "execution_count": 88
        }
      ]
    },
    {
      "cell_type": "code",
      "source": [
        "#abs da o valor absoluto de um número\n",
        "abs(-10)"
      ],
      "metadata": {
        "colab": {
          "base_uri": "https://localhost:8080/"
        },
        "id": "0qXuN8EBGZbO",
        "outputId": "a01cd4b4-3191-4a84-9f9d-2334c49e428a"
      },
      "execution_count": 89,
      "outputs": [
        {
          "output_type": "execute_result",
          "data": {
            "text/plain": [
              "10"
            ]
          },
          "metadata": {},
          "execution_count": 89
        }
      ]
    },
    {
      "cell_type": "code",
      "source": [
        "if -10 <0:\n",
        "  print(-1*10)"
      ],
      "metadata": {
        "colab": {
          "base_uri": "https://localhost:8080/"
        },
        "id": "OSzoAKRcGjGX",
        "outputId": "9a3ebd0e-d6f9-4c9f-c55f-b568ebdcad9a"
      },
      "execution_count": 90,
      "outputs": [
        {
          "output_type": "stream",
          "name": "stdout",
          "text": [
            "-10\n"
          ]
        }
      ]
    },
    {
      "cell_type": "code",
      "source": [
        "round(1.26736843687)"
      ],
      "metadata": {
        "colab": {
          "base_uri": "https://localhost:8080/"
        },
        "id": "Tu-4E1fsGpHa",
        "outputId": "d7ef0a13-f225-472e-a5e2-8b8ce04277bc"
      },
      "execution_count": 91,
      "outputs": [
        {
          "output_type": "execute_result",
          "data": {
            "text/plain": [
              "1"
            ]
          },
          "metadata": {},
          "execution_count": 91
        }
      ]
    },
    {
      "cell_type": "code",
      "source": [
        "round(1.26736843687, 3)"
      ],
      "metadata": {
        "colab": {
          "base_uri": "https://localhost:8080/"
        },
        "id": "_kZn5oDRGxdM",
        "outputId": "66a675af-6edc-4f83-df28-d840e22f7602"
      },
      "execution_count": 92,
      "outputs": [
        {
          "output_type": "execute_result",
          "data": {
            "text/plain": [
              "1.267"
            ]
          },
          "metadata": {},
          "execution_count": 92
        }
      ]
    }
  ]
}