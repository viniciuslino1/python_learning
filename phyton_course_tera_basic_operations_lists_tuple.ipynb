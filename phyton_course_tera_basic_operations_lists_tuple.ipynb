{
  "nbformat": 4,
  "nbformat_minor": 0,
  "metadata": {
    "colab": {
      "provenance": [],
      "authorship_tag": "ABX9TyNEAUGVSJ5ONqWjQQDugzrH",
      "include_colab_link": true
    },
    "kernelspec": {
      "name": "python3",
      "display_name": "Python 3"
    },
    "language_info": {
      "name": "python"
    }
  },
  "cells": [
    {
      "cell_type": "markdown",
      "metadata": {
        "id": "view-in-github",
        "colab_type": "text"
      },
      "source": [
        "<a href=\"https://colab.research.google.com/github/viniciuslino1/python_learning/blob/main/phyton_course_tera_basic_operations_lists_tuple.ipynb\" target=\"_parent\"><img src=\"https://colab.research.google.com/assets/colab-badge.svg\" alt=\"Open In Colab\"/></a>"
      ]
    },
    {
      "cell_type": "markdown",
      "source": [
        "## **Operações básicas:**\n",
        "\n",
        "Adição"
      ],
      "metadata": {
        "id": "IWJCb-Z3KeVK"
      }
    },
    {
      "cell_type": "code",
      "source": [
        "3 + 2"
      ],
      "metadata": {
        "colab": {
          "base_uri": "https://localhost:8080/"
        },
        "id": "TFIbY7HiKhD4",
        "outputId": "678ca9db-b3cc-49c5-c8eb-7634dc0373f0"
      },
      "execution_count": 6,
      "outputs": [
        {
          "output_type": "execute_result",
          "data": {
            "text/plain": [
              "5"
            ]
          },
          "metadata": {},
          "execution_count": 6
        }
      ]
    },
    {
      "cell_type": "markdown",
      "source": [
        "Subtração"
      ],
      "metadata": {
        "id": "HX4W2wy6Kl36"
      }
    },
    {
      "cell_type": "code",
      "source": [
        "2-3"
      ],
      "metadata": {
        "colab": {
          "base_uri": "https://localhost:8080/"
        },
        "id": "PuKYkclwKo4C",
        "outputId": "eb70fc64-6633-4019-d0ee-1ed40332335f"
      },
      "execution_count": 7,
      "outputs": [
        {
          "output_type": "execute_result",
          "data": {
            "text/plain": [
              "-1"
            ]
          },
          "metadata": {},
          "execution_count": 7
        }
      ]
    },
    {
      "cell_type": "code",
      "source": [
        "3-2"
      ],
      "metadata": {
        "colab": {
          "base_uri": "https://localhost:8080/"
        },
        "id": "UTM_gEP4Kra3",
        "outputId": "4f57444d-877e-4c40-ff6d-469fe2903691"
      },
      "execution_count": 8,
      "outputs": [
        {
          "output_type": "execute_result",
          "data": {
            "text/plain": [
              "1"
            ]
          },
          "metadata": {},
          "execution_count": 8
        }
      ]
    },
    {
      "cell_type": "markdown",
      "source": [
        "multiplicação"
      ],
      "metadata": {
        "id": "U9tit3M3KvHw"
      }
    },
    {
      "cell_type": "code",
      "source": [
        "3*2"
      ],
      "metadata": {
        "colab": {
          "base_uri": "https://localhost:8080/"
        },
        "id": "XloXXq7fKylB",
        "outputId": "d4d7397f-1225-44eb-ee99-527d367236d3"
      },
      "execution_count": 9,
      "outputs": [
        {
          "output_type": "execute_result",
          "data": {
            "text/plain": [
              "6"
            ]
          },
          "metadata": {},
          "execution_count": 9
        }
      ]
    },
    {
      "cell_type": "markdown",
      "source": [
        "divisão"
      ],
      "metadata": {
        "id": "RGs_5VnVK14o"
      }
    },
    {
      "cell_type": "code",
      "source": [
        "3/2"
      ],
      "metadata": {
        "colab": {
          "base_uri": "https://localhost:8080/"
        },
        "id": "UOkkiEzOK6CI",
        "outputId": "9096c7e3-7dbe-4164-bb06-2388e74ba1c9"
      },
      "execution_count": 10,
      "outputs": [
        {
          "output_type": "execute_result",
          "data": {
            "text/plain": [
              "1.5"
            ]
          },
          "metadata": {},
          "execution_count": 10
        }
      ]
    },
    {
      "cell_type": "code",
      "source": [
        "2/3"
      ],
      "metadata": {
        "colab": {
          "base_uri": "https://localhost:8080/"
        },
        "id": "HqPxz_VnK7jD",
        "outputId": "4f43ea2a-a9b4-4778-d175-e47bf08b5ffa"
      },
      "execution_count": 11,
      "outputs": [
        {
          "output_type": "execute_result",
          "data": {
            "text/plain": [
              "0.6666666666666666"
            ]
          },
          "metadata": {},
          "execution_count": 11
        }
      ]
    },
    {
      "cell_type": "code",
      "source": [
        "6/2"
      ],
      "metadata": {
        "colab": {
          "base_uri": "https://localhost:8080/"
        },
        "id": "5WHfM81gK8Wu",
        "outputId": "dca5e4d9-d171-4b4b-c0c6-5fedcf8baf55"
      },
      "execution_count": 12,
      "outputs": [
        {
          "output_type": "execute_result",
          "data": {
            "text/plain": [
              "3.0"
            ]
          },
          "metadata": {},
          "execution_count": 12
        }
      ]
    },
    {
      "cell_type": "markdown",
      "source": [
        "Parte inteira da divisão usar  duas barras\n"
      ],
      "metadata": {
        "id": "u8JNiZANK_fP"
      }
    },
    {
      "cell_type": "code",
      "source": [
        "3//2"
      ],
      "metadata": {
        "colab": {
          "base_uri": "https://localhost:8080/"
        },
        "id": "7yntoCP1LCjT",
        "outputId": "656b3cb1-2c48-4eeb-c26e-70335863c0cb"
      },
      "execution_count": 13,
      "outputs": [
        {
          "output_type": "execute_result",
          "data": {
            "text/plain": [
              "1"
            ]
          },
          "metadata": {},
          "execution_count": 13
        }
      ]
    },
    {
      "cell_type": "markdown",
      "source": [
        "Módulo da divisão (ou resto da divisão) usar o simbolo de porcentagem"
      ],
      "metadata": {
        "id": "Y6GfhCtlLRXT"
      }
    },
    {
      "cell_type": "code",
      "source": [
        "3%2"
      ],
      "metadata": {
        "colab": {
          "base_uri": "https://localhost:8080/"
        },
        "id": "ZzCx2kc5LaUq",
        "outputId": "2a1bf38f-d65e-417e-ca01-c437220894f7"
      },
      "execution_count": 14,
      "outputs": [
        {
          "output_type": "execute_result",
          "data": {
            "text/plain": [
              "1"
            ]
          },
          "metadata": {},
          "execution_count": 14
        }
      ]
    },
    {
      "cell_type": "markdown",
      "source": [
        "Exponeciação (pontenciação) usar dois asterísticos"
      ],
      "metadata": {
        "id": "4q4rystGLi9X"
      }
    },
    {
      "cell_type": "code",
      "source": [
        "5**2"
      ],
      "metadata": {
        "colab": {
          "base_uri": "https://localhost:8080/"
        },
        "id": "1t7rCZgZLljD",
        "outputId": "567dfd30-9ae2-4706-aa83-02de31a853b4"
      },
      "execution_count": 15,
      "outputs": [
        {
          "output_type": "execute_result",
          "data": {
            "text/plain": [
              "25"
            ]
          },
          "metadata": {},
          "execution_count": 15
        }
      ]
    },
    {
      "cell_type": "markdown",
      "source": [
        "Raiz quadrada (equivalente a elevar a meio) - botar entre parenteses a divisão, se não será realizada essa operação primeiro"
      ],
      "metadata": {
        "id": "4mUCgMx5Ltzg"
      }
    },
    {
      "cell_type": "code",
      "source": [
        "4**(1/2)"
      ],
      "metadata": {
        "colab": {
          "base_uri": "https://localhost:8080/"
        },
        "id": "A268g9TALwyv",
        "outputId": "9ada7c9b-30d5-4091-a2be-7c77160f4ded"
      },
      "execution_count": 16,
      "outputs": [
        {
          "output_type": "execute_result",
          "data": {
            "text/plain": [
              "2.0"
            ]
          },
          "metadata": {},
          "execution_count": 16
        }
      ]
    },
    {
      "cell_type": "markdown",
      "source": [
        "## **Variáveis**\n",
        "\n",
        "É um dos conceitos mais utilizados nas linguagens de programação. **Utilizada para gravar valores na memória**, tornando possúvel gravar e ler esses valores em um nome pré-definido."
      ],
      "metadata": {
        "id": "xvLmvQu7MQOj"
      }
    },
    {
      "cell_type": "markdown",
      "source": [
        "Declaração a variável `a` e atribuindo o valor 2 para ela"
      ],
      "metadata": {
        "id": "fJBqtQrUMs_k"
      }
    },
    {
      "cell_type": "code",
      "source": [
        "a = 2"
      ],
      "metadata": {
        "id": "vVay0r3HMyT5"
      },
      "execution_count": 17,
      "outputs": []
    },
    {
      "cell_type": "markdown",
      "source": [
        "Não confundir a atribuição `=` como sinal de igual, que em phyton é `==`"
      ],
      "metadata": {
        "id": "RXGl2L1GM3Cv"
      }
    },
    {
      "cell_type": "code",
      "source": [
        "a == 2"
      ],
      "metadata": {
        "colab": {
          "base_uri": "https://localhost:8080/"
        },
        "id": "H4zE4iifM_A3",
        "outputId": "02841bd6-ba53-470c-d278-cb3bbcc7d5d2"
      },
      "execution_count": 18,
      "outputs": [
        {
          "output_type": "execute_result",
          "data": {
            "text/plain": [
              "True"
            ]
          },
          "metadata": {},
          "execution_count": 18
        }
      ]
    },
    {
      "cell_type": "markdown",
      "source": [
        "Comando para escrever a variável `a` na tela"
      ],
      "metadata": {
        "id": "6-IjlXV5NBR5"
      }
    },
    {
      "cell_type": "code",
      "source": [
        "print(a)"
      ],
      "metadata": {
        "colab": {
          "base_uri": "https://localhost:8080/"
        },
        "id": "9eKqqFvZNFFC",
        "outputId": "055e3d12-aeb8-462f-981e-4011a4c04fc7"
      },
      "execution_count": 19,
      "outputs": [
        {
          "output_type": "stream",
          "name": "stdout",
          "text": [
            "2\n"
          ]
        }
      ]
    },
    {
      "cell_type": "markdown",
      "source": [
        "Realizando operação com variáveis"
      ],
      "metadata": {
        "id": "Li2TI5ylNM7b"
      }
    },
    {
      "cell_type": "code",
      "source": [
        "b = 4"
      ],
      "metadata": {
        "id": "pdRfXf_RNPJ1"
      },
      "execution_count": 20,
      "outputs": []
    },
    {
      "cell_type": "code",
      "source": [
        "a + b"
      ],
      "metadata": {
        "colab": {
          "base_uri": "https://localhost:8080/"
        },
        "id": "MepUCqLtNSrn",
        "outputId": "7954a22b-9a99-4971-8255-3fbc665893c4"
      },
      "execution_count": 21,
      "outputs": [
        {
          "output_type": "execute_result",
          "data": {
            "text/plain": [
              "6"
            ]
          },
          "metadata": {},
          "execution_count": 21
        }
      ]
    },
    {
      "cell_type": "code",
      "source": [
        "a + b + 1"
      ],
      "metadata": {
        "colab": {
          "base_uri": "https://localhost:8080/"
        },
        "id": "K0ebUYFzNU_f",
        "outputId": "a08b4e4c-4483-4e61-e800-d05c19546642"
      },
      "execution_count": 22,
      "outputs": [
        {
          "output_type": "execute_result",
          "data": {
            "text/plain": [
              "7"
            ]
          },
          "metadata": {},
          "execution_count": 22
        }
      ]
    },
    {
      "cell_type": "markdown",
      "source": [
        "Realizando operações um pouco mais complexas com variáveis"
      ],
      "metadata": {
        "id": "tUtgADHMNXyW"
      }
    },
    {
      "cell_type": "code",
      "source": [
        "#Segue mesma ordem da matemática, usar parênteses para mudar\n",
        "# PEMDAS - Parênteses, Exponeciação, Multiplicação, Divisão, Adição e Subtração\n",
        "b**(1/2) + b*2 + b/(a-1)"
      ],
      "metadata": {
        "colab": {
          "base_uri": "https://localhost:8080/"
        },
        "id": "jV1fx7UyNbr4",
        "outputId": "02fb1bb3-4b18-4458-b057-79759a05892b"
      },
      "execution_count": 28,
      "outputs": [
        {
          "output_type": "execute_result",
          "data": {
            "text/plain": [
              "14.0"
            ]
          },
          "metadata": {},
          "execution_count": 28
        }
      ]
    },
    {
      "cell_type": "markdown",
      "source": [
        "### **Tipos de variáveis**\n",
        "\n",
        "Os tipos são uma *forma* de classificar informação. Os tipos primitivos (elementares) são os tipos de dados mais simples em phyton, existem outros, mas segue os mais básicos:\n",
        "\n",
        "\n",
        "\n",
        "*   int (integer) - para números inteiros\n",
        "*   str (string) - para uma sequência de caracteres, representa textos\n",
        "*   float - ponto flutuante, representa números decimais\n",
        "*   bool - armazena True ou **False**\n",
        "\n",
        "\n",
        "O comando `type` retorna o tipo da variável em questão"
      ],
      "metadata": {
        "id": "4s4DOS-UOBGO"
      }
    },
    {
      "cell_type": "code",
      "source": [
        "mensagem = \"Exemplo de mensagem!\"\n",
        "idade = 25\n",
        "pi = 3.141592653589931 #usar \".\" e não \",\" se não vai aparecer como tipo tupple, que é um tipo de lista\n",
        "acertou = True"
      ],
      "metadata": {
        "id": "glMp86N-OkNT"
      },
      "execution_count": 34,
      "outputs": []
    },
    {
      "cell_type": "code",
      "source": [
        "type(mensagem)"
      ],
      "metadata": {
        "colab": {
          "base_uri": "https://localhost:8080/"
        },
        "id": "Ruf3YIRNOwbT",
        "outputId": "dcb907b5-d297-419a-9a7a-731f0f8f3b8a"
      },
      "execution_count": 30,
      "outputs": [
        {
          "output_type": "execute_result",
          "data": {
            "text/plain": [
              "str"
            ]
          },
          "metadata": {},
          "execution_count": 30
        }
      ]
    },
    {
      "cell_type": "code",
      "source": [
        "type (pi)"
      ],
      "metadata": {
        "colab": {
          "base_uri": "https://localhost:8080/"
        },
        "id": "Pa4uNKClO0no",
        "outputId": "79e508b1-232a-494d-ff56-8b4325d9e64b"
      },
      "execution_count": 33,
      "outputs": [
        {
          "output_type": "execute_result",
          "data": {
            "text/plain": [
              "float"
            ]
          },
          "metadata": {},
          "execution_count": 33
        }
      ]
    },
    {
      "cell_type": "code",
      "source": [
        "type(acertou)"
      ],
      "metadata": {
        "colab": {
          "base_uri": "https://localhost:8080/"
        },
        "id": "SgQykgsuPKkF",
        "outputId": "06dce1a7-bd55-47fa-b2ff-b2b23e1c6d92"
      },
      "execution_count": 35,
      "outputs": [
        {
          "output_type": "execute_result",
          "data": {
            "text/plain": [
              "bool"
            ]
          },
          "metadata": {},
          "execution_count": 35
        }
      ]
    },
    {
      "cell_type": "code",
      "source": [
        "type(idade)"
      ],
      "metadata": {
        "colab": {
          "base_uri": "https://localhost:8080/"
        },
        "id": "rFNE8PhePMDn",
        "outputId": "918f6e90-3925-4acc-b6f6-eda33ddc49a8"
      },
      "execution_count": 36,
      "outputs": [
        {
          "output_type": "execute_result",
          "data": {
            "text/plain": [
              "int"
            ]
          },
          "metadata": {},
          "execution_count": 36
        }
      ]
    },
    {
      "cell_type": "code",
      "source": [
        "type (a)"
      ],
      "metadata": {
        "colab": {
          "base_uri": "https://localhost:8080/"
        },
        "id": "U6E-FVUePPcR",
        "outputId": "fdcd0997-68d4-4d29-8930-f0dc07b117c8"
      },
      "execution_count": 37,
      "outputs": [
        {
          "output_type": "execute_result",
          "data": {
            "text/plain": [
              "int"
            ]
          },
          "metadata": {},
          "execution_count": 37
        }
      ]
    },
    {
      "cell_type": "code",
      "source": [
        "a = a/2"
      ],
      "metadata": {
        "id": "ervk-MABPRXz"
      },
      "execution_count": 38,
      "outputs": []
    },
    {
      "cell_type": "code",
      "source": [
        "type (a)"
      ],
      "metadata": {
        "colab": {
          "base_uri": "https://localhost:8080/"
        },
        "id": "CFPdgt0YPS4f",
        "outputId": "f2a8050e-7938-4159-fc87-967545f0aa5d"
      },
      "execution_count": 39,
      "outputs": [
        {
          "output_type": "execute_result",
          "data": {
            "text/plain": [
              "float"
            ]
          },
          "metadata": {},
          "execution_count": 39
        }
      ]
    },
    {
      "cell_type": "markdown",
      "source": [
        "### **F-string**\n",
        "\n",
        "As F-strings são formas de incorporar variáveis dentro das strings. Para isso, precisa colocar a letra f antes das \"\" que iniciam a string e colocar a variável que deseja ser incorporada.\n",
        "\n",
        "Também é preciso colocar dentro das as aspas entre chaves `{}` o nome da variável em questão."
      ],
      "metadata": {
        "id": "-l_dHi8oPxVw"
      }
    },
    {
      "cell_type": "code",
      "source": [
        "sobremesa = \"bolo de chocolate\"\n",
        "print(f\"Hoje a sobremesa é: {sobremesa}!\")"
      ],
      "metadata": {
        "colab": {
          "base_uri": "https://localhost:8080/"
        },
        "id": "_KuEJmnCQCUz",
        "outputId": "a210d4f1-235a-4b95-8147-53e073aaf00c"
      },
      "execution_count": 40,
      "outputs": [
        {
          "output_type": "stream",
          "name": "stdout",
          "text": [
            "Hoje a sobremesa é: bolo de chocolate!\n"
          ]
        }
      ]
    },
    {
      "cell_type": "code",
      "source": [
        "#Para printar várias coisas basta colocar entre () e com o enter os comandos de print, por exemplo:\n",
        "print(type(mensagem))\n",
        "print(type(idade))"
      ],
      "metadata": {
        "colab": {
          "base_uri": "https://localhost:8080/"
        },
        "id": "NwbA2dmeRm4q",
        "outputId": "4a93e1ab-3afd-4a74-eadc-e35d0e843000"
      },
      "execution_count": 43,
      "outputs": [
        {
          "output_type": "stream",
          "name": "stdout",
          "text": [
            "<class 'str'>\n",
            "<class 'int'>\n"
          ]
        }
      ]
    },
    {
      "cell_type": "markdown",
      "source": [
        "# **Listas e Tuplas**\n",
        "\n",
        "São exemplos de estruturas sequenciais. Nessas estruturas você pode acessar os objetos contidos através da ordem que foram colocados, somente dando a posição deles é possível acessar.\n",
        "\n",
        "A lista é a estrutura mais **versátil**, ela é **mutável**, permite adicionar coteúdo e alterar eles sem precisar realizar uma cópia da estrutura. A forma mais simples de criar uma lista é a declaração dos objetos que a compõem entre colchetes. `[]`"
      ],
      "metadata": {
        "id": "OFc9LtXQV3SR"
      }
    },
    {
      "cell_type": "code",
      "source": [
        "#Criando uma lista e chamando de 'x'\n",
        "x = [1,2,3,4,5]\n",
        "x"
      ],
      "metadata": {
        "colab": {
          "base_uri": "https://localhost:8080/"
        },
        "id": "m-zvcz9DWa43",
        "outputId": "ec2da5bf-c83c-4d39-d63f-464aa76943b2"
      },
      "execution_count": 44,
      "outputs": [
        {
          "output_type": "execute_result",
          "data": {
            "text/plain": [
              "[1, 2, 3, 4, 5]"
            ]
          },
          "metadata": {},
          "execution_count": 44
        }
      ]
    },
    {
      "cell_type": "markdown",
      "source": [
        "O tipo interno (`type`) da lista em **phyton** é a `list`."
      ],
      "metadata": {
        "id": "ou_wkExlWrKB"
      }
    },
    {
      "cell_type": "code",
      "source": [
        "type(x)"
      ],
      "metadata": {
        "colab": {
          "base_uri": "https://localhost:8080/"
        },
        "id": "Y7KciAaWWyrP",
        "outputId": "d54c2243-49dc-475c-ea60-fe09a1e94362"
      },
      "execution_count": 45,
      "outputs": [
        {
          "output_type": "execute_result",
          "data": {
            "text/plain": [
              "list"
            ]
          },
          "metadata": {},
          "execution_count": 45
        }
      ]
    },
    {
      "cell_type": "markdown",
      "source": [
        "Outra forma de construir uma lista é convertendo outra sequência através do construtor `list()`."
      ],
      "metadata": {
        "id": "qrmZ3ICvW2GN"
      }
    },
    {
      "cell_type": "code",
      "source": [
        "# criando uma outra sequencia do tipo 'tuple'\n",
        "y = list(('a', 'b', 'c'))  #tupla de entrada a, b, c, foi convertido em uma lista\n",
        "y"
      ],
      "metadata": {
        "colab": {
          "base_uri": "https://localhost:8080/"
        },
        "id": "94ArA7dIW-EP",
        "outputId": "c5bbcb11-6969-435b-a6b7-dac996ad95b5"
      },
      "execution_count": 46,
      "outputs": [
        {
          "output_type": "execute_result",
          "data": {
            "text/plain": [
              "['a', 'b', 'c']"
            ]
          },
          "metadata": {},
          "execution_count": 46
        }
      ]
    },
    {
      "cell_type": "code",
      "source": [
        "type(y)"
      ],
      "metadata": {
        "colab": {
          "base_uri": "https://localhost:8080/"
        },
        "id": "KG0evb8xXMxZ",
        "outputId": "7918c8d0-42ab-403e-b5cb-68028448056e"
      },
      "execution_count": 47,
      "outputs": [
        {
          "output_type": "execute_result",
          "data": {
            "text/plain": [
              "list"
            ]
          },
          "metadata": {},
          "execution_count": 47
        }
      ]
    },
    {
      "cell_type": "code",
      "source": [
        "type((('a', 'b', 'c')))"
      ],
      "metadata": {
        "colab": {
          "base_uri": "https://localhost:8080/"
        },
        "id": "JcaZ8ENcXW76",
        "outputId": "4a5b8460-f032-449c-ec7f-a6810c752404"
      },
      "execution_count": 48,
      "outputs": [
        {
          "output_type": "execute_result",
          "data": {
            "text/plain": [
              "tuple"
            ]
          },
          "metadata": {},
          "execution_count": 48
        }
      ]
    },
    {
      "cell_type": "markdown",
      "source": [
        "Sobre elemtnos que podem compor uma `list`, **todos os tipos de objetos** são aceitos, inclusive o Non e ainda **outras sequências**. E não é necessário que todos os elementos sejam do mesmo tipo, a lista é **heterogênea** por construção."
      ],
      "metadata": {
        "id": "g0JZ1rYWXeKi"
      }
    },
    {
      "cell_type": "code",
      "source": [
        "# lista com diferentes tipos\n",
        "x = [None, 1, 'a', 'palavra completa', [None, 'x', 1999], ('nome', 'joao')]\n",
        "x"
      ],
      "metadata": {
        "colab": {
          "base_uri": "https://localhost:8080/"
        },
        "id": "D8fgwwcRXxBK",
        "outputId": "f5273d9b-4200-4772-dcb8-1667cbab6d90"
      },
      "execution_count": 51,
      "outputs": [
        {
          "output_type": "execute_result",
          "data": {
            "text/plain": [
              "[None, 1, 'a', 'palavra completa', [None, 'x', 1999], ('nome', 'joao')]"
            ]
          },
          "metadata": {},
          "execution_count": 51
        }
      ]
    },
    {
      "cell_type": "markdown",
      "source": [
        "## Acesso aos dados da lista"
      ],
      "metadata": {
        "id": "jjsddW9bYIPC"
      }
    },
    {
      "cell_type": "markdown",
      "source": [
        "### Acesso pela posição do item\n",
        "\n",
        "A forma mais simples de acessar um objeto da lista é pelo seu índice, ou seja pela posição que ele ocupa dentro da sequência. Os índices em Phyton começam pelo 0 como primeiro elemento da lista.\n"
      ],
      "metadata": {
        "id": "4ZvAumgoYOw0"
      }
    },
    {
      "cell_type": "code",
      "source": [
        "# criando a lista para testar conceitos\n",
        "x = ['primeiro', 'segundo', 'terceiro', 'quarto', 'quinto', 'penúltimo', 'último']\n",
        "x"
      ],
      "metadata": {
        "colab": {
          "base_uri": "https://localhost:8080/"
        },
        "id": "f1rJIx4bYanP",
        "outputId": "33413974-e1f6-4905-8134-ffa4ab1491f8"
      },
      "execution_count": 68,
      "outputs": [
        {
          "output_type": "execute_result",
          "data": {
            "text/plain": [
              "['primeiro', 'segundo', 'terceiro', 'quarto', 'quinto', 'penúltimo', 'último']"
            ]
          },
          "metadata": {},
          "execution_count": 68
        }
      ]
    },
    {
      "cell_type": "code",
      "source": [
        "x[3]"
      ],
      "metadata": {
        "colab": {
          "base_uri": "https://localhost:8080/",
          "height": 0
        },
        "id": "Rv9m7AS0Ysfz",
        "outputId": "ba5abed8-1c03-43a7-c5d7-8e20a0e2d465"
      },
      "execution_count": 69,
      "outputs": [
        {
          "output_type": "execute_result",
          "data": {
            "text/plain": [
              "'quarto'"
            ],
            "application/vnd.google.colaboratory.intrinsic+json": {
              "type": "string"
            }
          },
          "metadata": {},
          "execution_count": 69
        }
      ]
    },
    {
      "cell_type": "code",
      "source": [
        "x[6]"
      ],
      "metadata": {
        "colab": {
          "base_uri": "https://localhost:8080/",
          "height": 0
        },
        "id": "lmflvbwdZAt2",
        "outputId": "3e1635c9-aa8c-4d85-d82b-490a57bf0f33"
      },
      "execution_count": 70,
      "outputs": [
        {
          "output_type": "execute_result",
          "data": {
            "text/plain": [
              "'último'"
            ],
            "application/vnd.google.colaboratory.intrinsic+json": {
              "type": "string"
            }
          },
          "metadata": {},
          "execution_count": 70
        }
      ]
    },
    {
      "cell_type": "code",
      "source": [
        "x[0]"
      ],
      "metadata": {
        "colab": {
          "base_uri": "https://localhost:8080/",
          "height": 0
        },
        "id": "i02uV9u_ZJoA",
        "outputId": "46134e7a-0f67-4303-d168-98e68e3df446"
      },
      "execution_count": 71,
      "outputs": [
        {
          "output_type": "execute_result",
          "data": {
            "text/plain": [
              "'primeiro'"
            ],
            "application/vnd.google.colaboratory.intrinsic+json": {
              "type": "string"
            }
          },
          "metadata": {},
          "execution_count": 71
        }
      ]
    },
    {
      "cell_type": "markdown",
      "source": [
        "### Acesso por segmento (ou operador `slice`)\n",
        "\n",
        "A forma de identificar esse segmento de interesse é através do operador `:` , informando qual a **posição inicial** do segmento e também a **posição acima da final**.\n",
        "\n",
        "O formato seria a seguinte forma:\n",
        "\n",
        "`y = x[<primeira_posição>:<última_posição> + 1]`"
      ],
      "metadata": {
        "id": "MHisiw6bZLg7"
      }
    },
    {
      "cell_type": "code",
      "source": [
        "# usando o slice para captar os 3 valores entre '2' (inclusive) e '5' (exclusive)\n",
        "x[2:5] #desconsidera o número da última posição dada, o último valor é o limite exclusivo superior do slice"
      ],
      "metadata": {
        "colab": {
          "base_uri": "https://localhost:8080/"
        },
        "id": "3VqGlZ1tZOIA",
        "outputId": "80abe903-b353-4b8f-96b8-776c23804fdd"
      },
      "execution_count": 72,
      "outputs": [
        {
          "output_type": "execute_result",
          "data": {
            "text/plain": [
              "['terceiro', 'quarto', 'quinto']"
            ]
          },
          "metadata": {},
          "execution_count": 72
        }
      ]
    },
    {
      "cell_type": "code",
      "source": [
        "# verificando a primeira posição\n",
        "x[2]"
      ],
      "metadata": {
        "colab": {
          "base_uri": "https://localhost:8080/",
          "height": 0
        },
        "id": "Wba0Ztg8aWPs",
        "outputId": "6b795e65-f94b-4248-a269-a1c3f234c1b7"
      },
      "execution_count": 73,
      "outputs": [
        {
          "output_type": "execute_result",
          "data": {
            "text/plain": [
              "'terceiro'"
            ],
            "application/vnd.google.colaboratory.intrinsic+json": {
              "type": "string"
            }
          },
          "metadata": {},
          "execution_count": 73
        }
      ]
    },
    {
      "cell_type": "code",
      "source": [
        "# verificando a posição relativa ao segundo termo (5) do 'slice'\n",
        "x[5]"
      ],
      "metadata": {
        "colab": {
          "base_uri": "https://localhost:8080/",
          "height": 0
        },
        "id": "COF-POvDakuj",
        "outputId": "b54d5a38-09af-44b4-bc0f-86ad1ad3b9c8"
      },
      "execution_count": 74,
      "outputs": [
        {
          "output_type": "execute_result",
          "data": {
            "text/plain": [
              "'penúltimo'"
            ],
            "application/vnd.google.colaboratory.intrinsic+json": {
              "type": "string"
            }
          },
          "metadata": {},
          "execution_count": 74
        }
      ]
    },
    {
      "cell_type": "markdown",
      "source": [
        "Como é possível observar, o elemento `5` não corresponde ao último elemento do `slice` `2:5`, pois o último valor é o **limite exclusivo superior** do `slice`."
      ],
      "metadata": {
        "id": "u8VevpQJaqvP"
      }
    },
    {
      "cell_type": "code",
      "source": [
        "#acessando os últimos 2 elementos da lista\n",
        "x[5:]"
      ],
      "metadata": {
        "colab": {
          "base_uri": "https://localhost:8080/"
        },
        "id": "f23myug5bB8g",
        "outputId": "fa8a8a3e-b9dd-4c23-d583-8a0f947b35eb"
      },
      "execution_count": 75,
      "outputs": [
        {
          "output_type": "execute_result",
          "data": {
            "text/plain": [
              "['penúltimo', 'último']"
            ]
          },
          "metadata": {},
          "execution_count": 75
        }
      ]
    },
    {
      "cell_type": "markdown",
      "source": [
        "Para acessar o **último elemento** da lista, é necessário **deixar vazi**o o último número do `slice`."
      ],
      "metadata": {
        "id": "yb0l-e-AbK1Y"
      }
    },
    {
      "cell_type": "markdown",
      "source": [
        "Para o caso do primeiro índice, **tanto faz** usar o **valor vazio** ou **zero**"
      ],
      "metadata": {
        "id": "7u2n93EsbVXl"
      }
    },
    {
      "cell_type": "code",
      "source": [
        "# declarando o zero\n",
        "x[0:3]"
      ],
      "metadata": {
        "colab": {
          "base_uri": "https://localhost:8080/"
        },
        "id": "K7gTboOQbc7R",
        "outputId": "f7595518-99a8-4442-f7fb-543ed842d9dd"
      },
      "execution_count": 76,
      "outputs": [
        {
          "output_type": "execute_result",
          "data": {
            "text/plain": [
              "['primeiro', 'segundo', 'terceiro']"
            ]
          },
          "metadata": {},
          "execution_count": 76
        }
      ]
    },
    {
      "cell_type": "code",
      "source": [
        "#omtindo o zero\n",
        "x[:3]"
      ],
      "metadata": {
        "colab": {
          "base_uri": "https://localhost:8080/"
        },
        "id": "nOGXnre6bhU7",
        "outputId": "32e5a6d5-b18a-4284-a93b-298d234eb8c3"
      },
      "execution_count": 77,
      "outputs": [
        {
          "output_type": "execute_result",
          "data": {
            "text/plain": [
              "['primeiro', 'segundo', 'terceiro']"
            ]
          },
          "metadata": {},
          "execution_count": 77
        }
      ]
    },
    {
      "cell_type": "markdown",
      "source": [
        "### Operador de `slice` definindo o passo (`step`)\n",
        "\n",
        "Também é possível definir de quantos em quantos índices o slice deve pegar os dados. O terceiro parâmetro do `slice` é chamdo de passo ou `step`.\n",
        "\n",
        "`x[start:end:step]`\n",
        "\n",
        "Por padrão, se o valor for omitido, se assume que é **igual a um**."
      ],
      "metadata": {
        "id": "D5sRQLMTcGhF"
      }
    },
    {
      "cell_type": "code",
      "source": [
        "# `slice` com `step` igual 1\n",
        "x[2:5:1]"
      ],
      "metadata": {
        "colab": {
          "base_uri": "https://localhost:8080/"
        },
        "id": "kovcuVg5cn7h",
        "outputId": "0cef7735-49a3-4ec5-e6dc-2830f1a2ce2d"
      },
      "execution_count": 78,
      "outputs": [
        {
          "output_type": "execute_result",
          "data": {
            "text/plain": [
              "['terceiro', 'quarto', 'quinto']"
            ]
          },
          "metadata": {},
          "execution_count": 78
        }
      ]
    },
    {
      "cell_type": "code",
      "source": [
        "#`slice` com `step` não declarado\n",
        "x[2:5]"
      ],
      "metadata": {
        "colab": {
          "base_uri": "https://localhost:8080/"
        },
        "id": "CYGKsOgDcvnI",
        "outputId": "f0d3adeb-9379-4c82-fbc9-e3f1b5be71e7"
      },
      "execution_count": 79,
      "outputs": [
        {
          "output_type": "execute_result",
          "data": {
            "text/plain": [
              "['terceiro', 'quarto', 'quinto']"
            ]
          },
          "metadata": {},
          "execution_count": 79
        }
      ]
    },
    {
      "cell_type": "markdown",
      "source": [
        "Se o `step` for **igual a dois**, por exemplo, o slice **vai pular um** elemento a cada passo."
      ],
      "metadata": {
        "id": "44JtOogBc5Fq"
      }
    },
    {
      "cell_type": "code",
      "source": [
        "x[1:5:2]"
      ],
      "metadata": {
        "colab": {
          "base_uri": "https://localhost:8080/"
        },
        "id": "JgZSmOxndCOd",
        "outputId": "badd5d50-3507-40b4-ec20-ad8ba01d9f73"
      },
      "execution_count": 80,
      "outputs": [
        {
          "output_type": "execute_result",
          "data": {
            "text/plain": [
              "['segundo', 'quarto']"
            ]
          },
          "metadata": {},
          "execution_count": 80
        }
      ]
    },
    {
      "cell_type": "markdown",
      "source": [
        "## Informações sobre a lista\n",
        "\n",
        "As funções `len()`, `min()`, `max()`, `sum()` permitem realizar operações e receber informações da lista. Como o tamanho da lista, o primeiro e último elemento dela e somar listas de objetos numéricos\n"
      ],
      "metadata": {
        "id": "wM_Jm-uUdgBk"
      }
    },
    {
      "cell_type": "code",
      "source": [
        "min(x)"
      ],
      "metadata": {
        "colab": {
          "base_uri": "https://localhost:8080/",
          "height": 36
        },
        "id": "_g_bVz_Hx-4A",
        "outputId": "e51e537a-4c91-42a0-ca19-d017c928dc9d"
      },
      "execution_count": 86,
      "outputs": [
        {
          "output_type": "execute_result",
          "data": {
            "text/plain": [
              "'penúltimo'"
            ],
            "application/vnd.google.colaboratory.intrinsic+json": {
              "type": "string"
            }
          },
          "metadata": {},
          "execution_count": 86
        }
      ]
    },
    {
      "cell_type": "code",
      "source": [
        "max(x)"
      ],
      "metadata": {
        "colab": {
          "base_uri": "https://localhost:8080/",
          "height": 36
        },
        "id": "dw0LyfzkyfTC",
        "outputId": "32bb3dcc-ab82-423c-c40e-ca63083748ed"
      },
      "execution_count": 87,
      "outputs": [
        {
          "output_type": "execute_result",
          "data": {
            "text/plain": [
              "'último'"
            ],
            "application/vnd.google.colaboratory.intrinsic+json": {
              "type": "string"
            }
          },
          "metadata": {},
          "execution_count": 87
        }
      ]
    },
    {
      "cell_type": "code",
      "source": [
        "len(x)"
      ],
      "metadata": {
        "colab": {
          "base_uri": "https://localhost:8080/"
        },
        "id": "qbBf1bWQd4Qn",
        "outputId": "dda5a77b-38b9-47dc-97ee-ef90172ab3bb"
      },
      "execution_count": 81,
      "outputs": [
        {
          "output_type": "execute_result",
          "data": {
            "text/plain": [
              "7"
            ]
          },
          "metadata": {},
          "execution_count": 81
        }
      ]
    },
    {
      "cell_type": "code",
      "source": [
        "y = [0,3,1,8,10,1,20]\n",
        "sum (y)"
      ],
      "metadata": {
        "colab": {
          "base_uri": "https://localhost:8080/"
        },
        "id": "DiSV3Tr9ynhc",
        "outputId": "bd60da86-21fb-4fbd-8d5f-21058b5dbe3c"
      },
      "execution_count": 90,
      "outputs": [
        {
          "output_type": "execute_result",
          "data": {
            "text/plain": [
              "43"
            ]
          },
          "metadata": {},
          "execution_count": 90
        }
      ]
    },
    {
      "cell_type": "code",
      "source": [
        "max(y)"
      ],
      "metadata": {
        "colab": {
          "base_uri": "https://localhost:8080/"
        },
        "id": "Shl8MMpfy3Re",
        "outputId": "50ce8022-c714-4406-c249-d8360d389723"
      },
      "execution_count": 91,
      "outputs": [
        {
          "output_type": "execute_result",
          "data": {
            "text/plain": [
              "20"
            ]
          },
          "metadata": {},
          "execution_count": 91
        }
      ]
    },
    {
      "cell_type": "code",
      "source": [
        "min (y)"
      ],
      "metadata": {
        "colab": {
          "base_uri": "https://localhost:8080/"
        },
        "id": "Uh8Td8Zey4oK",
        "outputId": "96c52f9f-4cd0-43f3-bb37-27217a5e6813"
      },
      "execution_count": 92,
      "outputs": [
        {
          "output_type": "execute_result",
          "data": {
            "text/plain": [
              "0"
            ]
          },
          "metadata": {},
          "execution_count": 92
        }
      ]
    },
    {
      "cell_type": "markdown",
      "source": [
        "### Adição e remoção de elementos da lista\n",
        "\n",
        "Usar função `append()` vai adicionar um elemento no final da lista\n",
        "\n",
        "`nome_lista.append(elemento_inserção)`\n",
        "\n",
        "Já a função `insert()` permite inserir em outros lugares que não só o final da lista\n",
        "\n",
        "`nome_lista.insert(posição, elemento_inserção)`\n",
        "\n",
        "Para realizar a remoção de informações basta ulitizar a função `remove()` utilizando como entrada o elemento que se quer remover\n",
        "\n",
        "`nome_lista.remove(elemento)`"
      ],
      "metadata": {
        "id": "iu1E3sZqy-kC"
      }
    },
    {
      "cell_type": "code",
      "source": [
        "z = [1,2,2,3,6,10]"
      ],
      "metadata": {
        "id": "cMjHCpf8z0oR"
      },
      "execution_count": 93,
      "outputs": []
    },
    {
      "cell_type": "code",
      "source": [
        "#adicionando no final da lista\n",
        "z.append(14)"
      ],
      "metadata": {
        "id": "AjSnz2ca-EzI"
      },
      "execution_count": 94,
      "outputs": []
    },
    {
      "cell_type": "code",
      "source": [
        "print(z)"
      ],
      "metadata": {
        "colab": {
          "base_uri": "https://localhost:8080/"
        },
        "id": "ozSpCOqB-Oq-",
        "outputId": "38a05804-9f2c-4368-ea9b-f38ec4739986"
      },
      "execution_count": 95,
      "outputs": [
        {
          "output_type": "stream",
          "name": "stdout",
          "text": [
            "[1, 2, 2, 3, 6, 10, 14]\n"
          ]
        }
      ]
    },
    {
      "cell_type": "code",
      "source": [
        "# adicionar um elemento em posição específica\n",
        "z.insert(4, 6.9)\n",
        "print(z)"
      ],
      "metadata": {
        "colab": {
          "base_uri": "https://localhost:8080/"
        },
        "id": "l0op8sMX-UNx",
        "outputId": "2651bd03-11dd-40be-8ebb-3103622fafb2"
      },
      "execution_count": 96,
      "outputs": [
        {
          "output_type": "stream",
          "name": "stdout",
          "text": [
            "[1, 2, 2, 3, 6.9, 6, 10, 14]\n"
          ]
        }
      ]
    },
    {
      "cell_type": "code",
      "source": [
        "# remover elemento\n",
        "z.remove(2)\n",
        "print(z)"
      ],
      "metadata": {
        "colab": {
          "base_uri": "https://localhost:8080/"
        },
        "id": "QZdgvqYZ-o19",
        "outputId": "d31e9b65-5e16-4e90-e2f9-1273fef585ba"
      },
      "execution_count": 97,
      "outputs": [
        {
          "output_type": "stream",
          "name": "stdout",
          "text": [
            "[1, 2, 3, 6.9, 6, 10, 14]\n"
          ]
        }
      ]
    },
    {
      "cell_type": "markdown",
      "source": [
        "Como acessar dados de listas múltiplas"
      ],
      "metadata": {
        "id": "kivmC8jUZh6c"
      }
    },
    {
      "cell_type": "code",
      "source": [
        "#Criação de lista múltipla\n",
        "lista_mult = [[1,2,3],[4,5,6],[7,8,[9,10]]]"
      ],
      "metadata": {
        "id": "MK951uBaZmpn"
      },
      "execution_count": 113,
      "outputs": []
    },
    {
      "cell_type": "code",
      "source": [
        "#Como acessar o 10 dentro do último colchete, o -1 retorna o último elemento da lista\n",
        "lista_mult[-1][-1][-1]"
      ],
      "metadata": {
        "colab": {
          "base_uri": "https://localhost:8080/"
        },
        "id": "TlI1R2_eZrSl",
        "outputId": "f5a6577b-b375-4732-beea-972835d19584"
      },
      "execution_count": 114,
      "outputs": [
        {
          "output_type": "execute_result",
          "data": {
            "text/plain": [
              "10"
            ]
          },
          "metadata": {},
          "execution_count": 114
        }
      ]
    },
    {
      "cell_type": "markdown",
      "source": [
        "## Tuplas\n",
        "\n",
        "Elas podem ser criadas como as listas, ma com o operador panrênteses em vez de colchetes. Ela é um elemento mais estático que a lista, uma vez que para modificar ela deverá ser criada uma cópia da original com as alterações."
      ],
      "metadata": {
        "id": "bjehQCWRARXQ"
      }
    },
    {
      "cell_type": "code",
      "source": [
        "# criação de tupla\n",
        "x = (1,2,3)\n",
        "print(type(x))\n",
        "x"
      ],
      "metadata": {
        "colab": {
          "base_uri": "https://localhost:8080/"
        },
        "id": "L30xh3HNAiec",
        "outputId": "8fd216a9-afe2-429d-cb65-e723dd3971e8"
      },
      "execution_count": 100,
      "outputs": [
        {
          "output_type": "stream",
          "name": "stdout",
          "text": [
            "<class 'tuple'>\n"
          ]
        },
        {
          "output_type": "execute_result",
          "data": {
            "text/plain": [
              "(1, 2, 3)"
            ]
          },
          "metadata": {},
          "execution_count": 100
        }
      ]
    },
    {
      "cell_type": "code",
      "source": [
        "# menor tupla possível\n",
        "x = ('qualquer_elemento',)\n",
        "print(type(x))\n",
        "x"
      ],
      "metadata": {
        "colab": {
          "base_uri": "https://localhost:8080/"
        },
        "id": "9OkBPUrgBAS_",
        "outputId": "c56c1999-be42-4d20-f1f7-ff7fe875e323"
      },
      "execution_count": 101,
      "outputs": [
        {
          "output_type": "stream",
          "name": "stdout",
          "text": [
            "<class 'tuple'>\n"
          ]
        },
        {
          "output_type": "execute_result",
          "data": {
            "text/plain": [
              "('qualquer_elemento',)"
            ]
          },
          "metadata": {},
          "execution_count": 101
        }
      ]
    },
    {
      "cell_type": "code",
      "source": [
        "# falha ao gerar tupla possível lido como uma string\n",
        "x = ('qualquer_elemento')\n",
        "print(type(x))\n",
        "x"
      ],
      "metadata": {
        "colab": {
          "base_uri": "https://localhost:8080/",
          "height": 53
        },
        "id": "6xTyPWJgBHLN",
        "outputId": "c169b43e-4b03-41d1-9b19-c4a0ca2f0cf9"
      },
      "execution_count": 102,
      "outputs": [
        {
          "output_type": "stream",
          "name": "stdout",
          "text": [
            "<class 'str'>\n"
          ]
        },
        {
          "output_type": "execute_result",
          "data": {
            "text/plain": [
              "'qualquer_elemento'"
            ],
            "application/vnd.google.colaboratory.intrinsic+json": {
              "type": "string"
            }
          },
          "metadata": {},
          "execution_count": 102
        }
      ]
    },
    {
      "cell_type": "markdown",
      "source": [
        "A tupla é o **tipo padrão para qualquer agrupamento** de dados não definido como outro. Se não houverem parênteses, a variável já recebe os valores como tupla"
      ],
      "metadata": {
        "id": "ilmukQkVBSgG"
      }
    },
    {
      "cell_type": "code",
      "source": [
        "#construção de atribuição simples\n",
        "x = 1, 2, 3\n",
        "type(x)\n"
      ],
      "metadata": {
        "colab": {
          "base_uri": "https://localhost:8080/"
        },
        "id": "kuiyUfatBe7I",
        "outputId": "625d8aae-9b1b-470e-8888-b78e2c2a2377"
      },
      "execution_count": 106,
      "outputs": [
        {
          "output_type": "execute_result",
          "data": {
            "text/plain": [
              "tuple"
            ]
          },
          "metadata": {},
          "execution_count": 106
        }
      ]
    },
    {
      "cell_type": "markdown",
      "source": [
        "### Acesso aos elementos da tupla\n",
        "\n",
        "Todos os métodos de acesso aos dados por íncides e `slices` funcionam normalmente nas tuplas."
      ],
      "metadata": {
        "id": "7k7PMbjMBqd8"
      }
    },
    {
      "cell_type": "code",
      "source": [
        "#Tupla criada\n",
        "x = (1,2,3,4,5,6,7,8,9)"
      ],
      "metadata": {
        "id": "slnFqT1-B2aY"
      },
      "execution_count": 107,
      "outputs": []
    },
    {
      "cell_type": "code",
      "source": [
        "#revertendo a tupla\n",
        "x[::-1] #quando usa o step -1 começa do fim ao inicio de um em um, retorna uma nova tupla, não tem alteração da tupla orginal"
      ],
      "metadata": {
        "colab": {
          "base_uri": "https://localhost:8080/"
        },
        "id": "RTzawVR2B7LY",
        "outputId": "56dc7d22-e62c-41d4-eccb-4d6c193568a4"
      },
      "execution_count": 108,
      "outputs": [
        {
          "output_type": "execute_result",
          "data": {
            "text/plain": [
              "(9, 8, 7, 6, 5, 4, 3, 2, 1)"
            ]
          },
          "metadata": {},
          "execution_count": 108
        }
      ]
    },
    {
      "cell_type": "code",
      "source": [
        "#criando uma lista e uma tupla iguais\n",
        "xls = [1,2,3,4,5]\n",
        "xlp = (1,2,3,4,5)\n",
        "xls, xlp"
      ],
      "metadata": {
        "colab": {
          "base_uri": "https://localhost:8080/"
        },
        "id": "XMLCIPkPCpJq",
        "outputId": "1f42b793-5325-4edb-b71c-40c5f867d3ba"
      },
      "execution_count": 109,
      "outputs": [
        {
          "output_type": "execute_result",
          "data": {
            "text/plain": [
              "([1, 2, 3, 4, 5], (1, 2, 3, 4, 5))"
            ]
          },
          "metadata": {},
          "execution_count": 109
        }
      ]
    },
    {
      "cell_type": "code",
      "source": [
        "#edição da lista - OK\n",
        "xls[2] = -5\n",
        "xls"
      ],
      "metadata": {
        "colab": {
          "base_uri": "https://localhost:8080/"
        },
        "id": "M7ASMNjvC323",
        "outputId": "ddae8b04-ad2e-47ab-b20e-19c71c3caef2"
      },
      "execution_count": 110,
      "outputs": [
        {
          "output_type": "execute_result",
          "data": {
            "text/plain": [
              "[1, 2, -5, 4, 5]"
            ]
          },
          "metadata": {},
          "execution_count": 110
        }
      ]
    },
    {
      "cell_type": "code",
      "source": [
        "#edição da tupla - mensagem de erro\n",
        "xlp[2] = -5\n",
        "xlp"
      ],
      "metadata": {
        "colab": {
          "base_uri": "https://localhost:8080/",
          "height": 176
        },
        "id": "yncqbzazC-cO",
        "outputId": "76bebd10-2e32-4c21-8073-5eb519f0454b"
      },
      "execution_count": 111,
      "outputs": [
        {
          "output_type": "error",
          "ename": "TypeError",
          "evalue": "'tuple' object does not support item assignment",
          "traceback": [
            "\u001b[0;31m---------------------------------------------------------------------------\u001b[0m",
            "\u001b[0;31mTypeError\u001b[0m                                 Traceback (most recent call last)",
            "\u001b[0;32m<ipython-input-111-85e84133ca5e>\u001b[0m in \u001b[0;36m<cell line: 2>\u001b[0;34m()\u001b[0m\n\u001b[1;32m      1\u001b[0m \u001b[0;31m#edição da tupla - mensagem de erro\u001b[0m\u001b[0;34m\u001b[0m\u001b[0;34m\u001b[0m\u001b[0m\n\u001b[0;32m----> 2\u001b[0;31m \u001b[0mxlp\u001b[0m\u001b[0;34m[\u001b[0m\u001b[0;36m2\u001b[0m\u001b[0;34m]\u001b[0m \u001b[0;34m=\u001b[0m \u001b[0;34m-\u001b[0m\u001b[0;36m5\u001b[0m\u001b[0;34m\u001b[0m\u001b[0;34m\u001b[0m\u001b[0m\n\u001b[0m\u001b[1;32m      3\u001b[0m \u001b[0mxlp\u001b[0m\u001b[0;34m\u001b[0m\u001b[0;34m\u001b[0m\u001b[0m\n",
            "\u001b[0;31mTypeError\u001b[0m: 'tuple' object does not support item assignment"
          ]
        }
      ]
    },
    {
      "cell_type": "markdown",
      "source": [
        "A principal vantagem da tupla sobre a lista é que, por ser uma estrutura estática, é muito mais simples de armazenar em memória, gastando menos espaço. A lista precisa de muito mais variáveis para ser eficiente, além de ter métodos específicos de edição.\n",
        "\n",
        "A principal desvantagem da tupla é que toda vez que se quer alterar, é necessário construir uma nova tupla com a modificação. Isso pode pesar na memória e tornar qualquer programa ineficiente muito rápido, principalmente quando grandes quantidades de dados estão na tupla."
      ],
      "metadata": {
        "id": "V1vsHPwkDgwv"
      }
    },
    {
      "cell_type": "code",
      "source": [
        "#Desempacotando tupla --> as variáveis a seguir vão ser atribuidas na mesma ordem da tupla\n",
        "a,b,c,d,e = xlp"
      ],
      "metadata": {
        "id": "h6qod9G-avTs"
      },
      "execution_count": 115,
      "outputs": []
    }
  ]
}